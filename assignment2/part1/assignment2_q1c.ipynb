{
  "nbformat": 4,
  "nbformat_minor": 0,
  "metadata": {
    "colab": {
      "provenance": []
    },
    "kernelspec": {
      "name": "python3",
      "display_name": "Python 3"
    },
    "language_info": {
      "name": "python"
    },
    "accelerator": "GPU",
    "gpuClass": "standard"
  },
  "cells": [
    {
      "cell_type": "code",
      "source": [
        "import itertools as it\n",
        "\n",
        "import torch\n",
        "from torchvision import models as tvmodels\n",
        "import pandas as pd\n",
        "import numpy as np\n",
        "from matplotlib import pyplot as plt\n",
        "import seaborn as sns\n",
        "from google.colab import files"
      ],
      "metadata": {
        "id": "ChJrmWoURpR-"
      },
      "execution_count": 20,
      "outputs": []
    },
    {
      "cell_type": "code",
      "source": [
        "device = \"cuda\" if torch.cuda.is_available() else \"cpu\""
      ],
      "metadata": {
        "id": "zpkgXAdQRrcL"
      },
      "execution_count": 8,
      "outputs": []
    },
    {
      "cell_type": "code",
      "execution_count": 1,
      "metadata": {
        "id": "J7SuUrZa7RRc"
      },
      "outputs": [],
      "source": [
        "def get_gpu_mem() -> int:\n",
        "    return torch.cuda.memory_allocated() / (1024**2)\n",
        "\n",
        "\n",
        "def clear_gpu_cache():\n",
        "    torch.cuda.empty_cache()\n",
        "\n",
        "\n",
        "def eval(model, input, use_grad=False):\n",
        "    model.eval()\n",
        "    start = get_gpu_mem()\n",
        "    with torch.set_grad_enabled(use_grad):\n",
        "        res = model(input)\n",
        "    end = get_gpu_mem()\n",
        "    diff = end - start\n",
        "    print(f\"After evaluation with use_grad: {use_grad} {end} diff {diff}\")\n",
        "    return diff\n",
        "\n",
        "\n",
        "def compare_same_model(model_builder, weights, dummy_input):\n",
        "    print(\"-\" * 15)\n",
        "    print(f\"Model: {model_builder.__name__}, GPU usage: {get_gpu_mem()}\")\n",
        "\n",
        "    clear_gpu_cache()\n",
        "    weights = weights.DEFAULT\n",
        "    model = model_builder(weights=weights).to(device)\n",
        "    print(f\"{model_builder.__name__} sent to GPU, usage: {get_gpu_mem()}\")\n",
        "    dummy_input = weights.transforms()(dummy_input)\n",
        "    print(f\"Preproc input, GPU: {get_gpu_mem()}\")\n",
        "    mem_nograd = eval(model, dummy_input)\n",
        "    print(f\"GPU usage after NO GRAD: {get_gpu_mem()}\")\n",
        "\n",
        "    clear_gpu_cache()  # previous experiments show this is not needed actually\n",
        "    mem_grad = eval(model, dummy_input, use_grad=True)\n",
        "    print(f\"GPU usage after GRAD: {get_gpu_mem()}\")\n",
        "    return [\n",
        "        {\"name\": model_builder.__name__, \"GPU_memory\": mem_nograd, \"grad\": False},\n",
        "        {\"name\": model_builder.__name__, \"GPU_memory\": mem_grad, \"grad\": True},\n",
        "    ]"
      ]
    },
    {
      "cell_type": "code",
      "source": [
        "models = [\n",
        "    tvmodels.vgg11,\n",
        "    tvmodels.vgg11_bn,\n",
        "    tvmodels.resnet18,\n",
        "    tvmodels.resnet34,\n",
        "    tvmodels.densenet121,\n",
        "    tvmodels.mobilenet_v3_small,\n",
        "]\n",
        "\n",
        "pretrained_weights = [\n",
        "    tvmodels.VGG11_Weights,\n",
        "    tvmodels.VGG11_BN_Weights,\n",
        "    tvmodels.ResNet18_Weights,\n",
        "    tvmodels.ResNet34_Weights,\n",
        "    tvmodels.DenseNet121_Weights,\n",
        "    tvmodels.MobileNet_V3_Small_Weights,\n",
        "]"
      ],
      "metadata": {
        "id": "R08jOQRsK-5W"
      },
      "execution_count": 2,
      "outputs": []
    },
    {
      "cell_type": "code",
      "source": [
        "print(f\"Very start: {get_gpu_mem()}\")\n",
        "\n",
        "dummy_input = torch.rand(64, 3, 224, 224).to(device)\n",
        "measures = []\n",
        "\n",
        "init_gpu_mem = get_gpu_mem()\n",
        "print(f\"Input on GPU, memory: {init_gpu_mem}\")"
      ],
      "metadata": {
        "colab": {
          "base_uri": "https://localhost:8080/"
        },
        "id": "2TMy25PbDnUs",
        "outputId": "82171d86-45af-4ccb-af1e-55cfa41e939a"
      },
      "execution_count": 3,
      "outputs": [
        {
          "output_type": "stream",
          "name": "stdout",
          "text": [
            "Very start: 0.0\n",
            "Input on GPU, memory: 36.75\n"
          ]
        }
      ]
    },
    {
      "cell_type": "code",
      "source": [
        "memory_measures = [compare_same_model(model_, w, dummy_input) for model_, w in zip(models, pretrained_weights)]"
      ],
      "metadata": {
        "colab": {
          "base_uri": "https://localhost:8080/"
        },
        "id": "USJOmLM_NThj",
        "outputId": "97139def-5ea7-44cf-e7a5-a09319eab410"
      },
      "execution_count": 4,
      "outputs": [
        {
          "output_type": "stream",
          "name": "stdout",
          "text": [
            "---------------\n",
            "Model: vgg11, GPU usage: 36.75\n",
            "vgg11 sent to GPU, usage: 544.083984375\n",
            "Preproc input, GPU: 580.833984375\n",
            "After evaluation with use_grad: False 581.078125 diff 0.244140625\n",
            "GPU usage after NO GRAD: 580.833984375\n",
            "After evaluation with use_grad: True 3523.078125 diff 2942.244140625\n",
            "GPU usage after GRAD: 580.833984375\n",
            "---------------\n",
            "Model: vgg11_bn, GPU usage: 36.75\n",
            "vgg11_bn sent to GPU, usage: 544.130859375\n",
            "Preproc input, GPU: 580.880859375\n",
            "After evaluation with use_grad: False 581.125 diff 0.244140625\n",
            "GPU usage after NO GRAD: 580.880859375\n",
            "After evaluation with use_grad: True 5336.125 diff 4755.244140625\n",
            "GPU usage after GRAD: 580.880859375\n",
            "---------------\n",
            "Model: resnet18, GPU usage: 36.75\n",
            "resnet18 sent to GPU, usage: 81.5654296875\n",
            "Preproc input, GPU: 118.3154296875\n",
            "After evaluation with use_grad: False 118.5595703125 diff 0.244140625\n",
            "GPU usage after NO GRAD: 118.3154296875\n",
            "After evaluation with use_grad: True 1437.5595703125 diff 1319.244140625\n",
            "GPU usage after GRAD: 118.3154296875\n",
            "---------------\n",
            "Model: resnet34, GPU usage: 36.75\n",
            "resnet34 sent to GPU, usage: 120.1630859375\n",
            "Preproc input, GPU: 204.9130859375\n",
            "After evaluation with use_grad: False 157.1572265625 diff -47.755859375\n",
            "GPU usage after NO GRAD: 156.9130859375\n",
            "After evaluation with use_grad: True 2088.6572265625 diff 1931.744140625\n",
            "GPU usage after GRAD: 156.9130859375\n",
            "---------------\n",
            "Model: densenet121, GPU usage: 36.75\n",
            "densenet121 sent to GPU, usage: 67.60888671875\n",
            "Preproc input, GPU: 104.35888671875\n",
            "After evaluation with use_grad: False 104.60302734375 diff 0.244140625\n",
            "GPU usage after NO GRAD: 104.35888671875\n",
            "After evaluation with use_grad: True 8057.48583984375 diff 7953.126953125\n",
            "GPU usage after GRAD: 104.35888671875\n",
            "---------------\n",
            "Model: mobilenet_v3_small, GPU usage: 36.75\n",
            "mobilenet_v3_small sent to GPU, usage: 46.55517578125\n",
            "Preproc input, GPU: 83.30517578125\n",
            "After evaluation with use_grad: False 83.54931640625 diff 0.244140625\n",
            "GPU usage after NO GRAD: 83.30517578125\n",
            "After evaluation with use_grad: True 1048.16455078125 diff 964.859375\n",
            "GPU usage after GRAD: 83.30517578125\n"
          ]
        }
      ]
    },
    {
      "cell_type": "code",
      "source": [
        "# QUESTION: resnet34 frees memory during a forward pass?! this why\n",
        "# I'm taking the absolute value, but smth is wrong here\n",
        "\n",
        "memory_df = pd.DataFrame(it.chain(*memory_measures))\n",
        "memory_df[\"GPU_memory\"] = np.abs(memory_df[\"GPU_memory\"])\n",
        "memory_df"
      ],
      "metadata": {
        "colab": {
          "base_uri": "https://localhost:8080/",
          "height": 426
        },
        "id": "V_5ajSIANNNB",
        "outputId": "f3cfd1ca-40b7-4e0f-be4d-d716d961a071"
      },
      "execution_count": 15,
      "outputs": [
        {
          "output_type": "execute_result",
          "data": {
            "text/plain": [
              "                  name   GPU_memory   grad\n",
              "0                vgg11     0.244141  False\n",
              "1                vgg11  2942.244141   True\n",
              "2             vgg11_bn     0.244141  False\n",
              "3             vgg11_bn  4755.244141   True\n",
              "4             resnet18     0.244141  False\n",
              "5             resnet18  1319.244141   True\n",
              "6             resnet34    47.755859  False\n",
              "7             resnet34  1931.744141   True\n",
              "8          densenet121     0.244141  False\n",
              "9          densenet121  7953.126953   True\n",
              "10  mobilenet_v3_small     0.244141  False\n",
              "11  mobilenet_v3_small   964.859375   True"
            ],
            "text/html": [
              "\n",
              "  <div id=\"df-4a34e190-dd5c-434b-b08d-eb4803b17c36\">\n",
              "    <div class=\"colab-df-container\">\n",
              "      <div>\n",
              "<style scoped>\n",
              "    .dataframe tbody tr th:only-of-type {\n",
              "        vertical-align: middle;\n",
              "    }\n",
              "\n",
              "    .dataframe tbody tr th {\n",
              "        vertical-align: top;\n",
              "    }\n",
              "\n",
              "    .dataframe thead th {\n",
              "        text-align: right;\n",
              "    }\n",
              "</style>\n",
              "<table border=\"1\" class=\"dataframe\">\n",
              "  <thead>\n",
              "    <tr style=\"text-align: right;\">\n",
              "      <th></th>\n",
              "      <th>name</th>\n",
              "      <th>GPU_memory</th>\n",
              "      <th>grad</th>\n",
              "    </tr>\n",
              "  </thead>\n",
              "  <tbody>\n",
              "    <tr>\n",
              "      <th>0</th>\n",
              "      <td>vgg11</td>\n",
              "      <td>0.244141</td>\n",
              "      <td>False</td>\n",
              "    </tr>\n",
              "    <tr>\n",
              "      <th>1</th>\n",
              "      <td>vgg11</td>\n",
              "      <td>2942.244141</td>\n",
              "      <td>True</td>\n",
              "    </tr>\n",
              "    <tr>\n",
              "      <th>2</th>\n",
              "      <td>vgg11_bn</td>\n",
              "      <td>0.244141</td>\n",
              "      <td>False</td>\n",
              "    </tr>\n",
              "    <tr>\n",
              "      <th>3</th>\n",
              "      <td>vgg11_bn</td>\n",
              "      <td>4755.244141</td>\n",
              "      <td>True</td>\n",
              "    </tr>\n",
              "    <tr>\n",
              "      <th>4</th>\n",
              "      <td>resnet18</td>\n",
              "      <td>0.244141</td>\n",
              "      <td>False</td>\n",
              "    </tr>\n",
              "    <tr>\n",
              "      <th>5</th>\n",
              "      <td>resnet18</td>\n",
              "      <td>1319.244141</td>\n",
              "      <td>True</td>\n",
              "    </tr>\n",
              "    <tr>\n",
              "      <th>6</th>\n",
              "      <td>resnet34</td>\n",
              "      <td>47.755859</td>\n",
              "      <td>False</td>\n",
              "    </tr>\n",
              "    <tr>\n",
              "      <th>7</th>\n",
              "      <td>resnet34</td>\n",
              "      <td>1931.744141</td>\n",
              "      <td>True</td>\n",
              "    </tr>\n",
              "    <tr>\n",
              "      <th>8</th>\n",
              "      <td>densenet121</td>\n",
              "      <td>0.244141</td>\n",
              "      <td>False</td>\n",
              "    </tr>\n",
              "    <tr>\n",
              "      <th>9</th>\n",
              "      <td>densenet121</td>\n",
              "      <td>7953.126953</td>\n",
              "      <td>True</td>\n",
              "    </tr>\n",
              "    <tr>\n",
              "      <th>10</th>\n",
              "      <td>mobilenet_v3_small</td>\n",
              "      <td>0.244141</td>\n",
              "      <td>False</td>\n",
              "    </tr>\n",
              "    <tr>\n",
              "      <th>11</th>\n",
              "      <td>mobilenet_v3_small</td>\n",
              "      <td>964.859375</td>\n",
              "      <td>True</td>\n",
              "    </tr>\n",
              "  </tbody>\n",
              "</table>\n",
              "</div>\n",
              "      <button class=\"colab-df-convert\" onclick=\"convertToInteractive('df-4a34e190-dd5c-434b-b08d-eb4803b17c36')\"\n",
              "              title=\"Convert this dataframe to an interactive table.\"\n",
              "              style=\"display:none;\">\n",
              "        \n",
              "  <svg xmlns=\"http://www.w3.org/2000/svg\" height=\"24px\"viewBox=\"0 0 24 24\"\n",
              "       width=\"24px\">\n",
              "    <path d=\"M0 0h24v24H0V0z\" fill=\"none\"/>\n",
              "    <path d=\"M18.56 5.44l.94 2.06.94-2.06 2.06-.94-2.06-.94-.94-2.06-.94 2.06-2.06.94zm-11 1L8.5 8.5l.94-2.06 2.06-.94-2.06-.94L8.5 2.5l-.94 2.06-2.06.94zm10 10l.94 2.06.94-2.06 2.06-.94-2.06-.94-.94-2.06-.94 2.06-2.06.94z\"/><path d=\"M17.41 7.96l-1.37-1.37c-.4-.4-.92-.59-1.43-.59-.52 0-1.04.2-1.43.59L10.3 9.45l-7.72 7.72c-.78.78-.78 2.05 0 2.83L4 21.41c.39.39.9.59 1.41.59.51 0 1.02-.2 1.41-.59l7.78-7.78 2.81-2.81c.8-.78.8-2.07 0-2.86zM5.41 20L4 18.59l7.72-7.72 1.47 1.35L5.41 20z\"/>\n",
              "  </svg>\n",
              "      </button>\n",
              "      \n",
              "  <style>\n",
              "    .colab-df-container {\n",
              "      display:flex;\n",
              "      flex-wrap:wrap;\n",
              "      gap: 12px;\n",
              "    }\n",
              "\n",
              "    .colab-df-convert {\n",
              "      background-color: #E8F0FE;\n",
              "      border: none;\n",
              "      border-radius: 50%;\n",
              "      cursor: pointer;\n",
              "      display: none;\n",
              "      fill: #1967D2;\n",
              "      height: 32px;\n",
              "      padding: 0 0 0 0;\n",
              "      width: 32px;\n",
              "    }\n",
              "\n",
              "    .colab-df-convert:hover {\n",
              "      background-color: #E2EBFA;\n",
              "      box-shadow: 0px 1px 2px rgba(60, 64, 67, 0.3), 0px 1px 3px 1px rgba(60, 64, 67, 0.15);\n",
              "      fill: #174EA6;\n",
              "    }\n",
              "\n",
              "    [theme=dark] .colab-df-convert {\n",
              "      background-color: #3B4455;\n",
              "      fill: #D2E3FC;\n",
              "    }\n",
              "\n",
              "    [theme=dark] .colab-df-convert:hover {\n",
              "      background-color: #434B5C;\n",
              "      box-shadow: 0px 1px 3px 1px rgba(0, 0, 0, 0.15);\n",
              "      filter: drop-shadow(0px 1px 2px rgba(0, 0, 0, 0.3));\n",
              "      fill: #FFFFFF;\n",
              "    }\n",
              "  </style>\n",
              "\n",
              "      <script>\n",
              "        const buttonEl =\n",
              "          document.querySelector('#df-4a34e190-dd5c-434b-b08d-eb4803b17c36 button.colab-df-convert');\n",
              "        buttonEl.style.display =\n",
              "          google.colab.kernel.accessAllowed ? 'block' : 'none';\n",
              "\n",
              "        async function convertToInteractive(key) {\n",
              "          const element = document.querySelector('#df-4a34e190-dd5c-434b-b08d-eb4803b17c36');\n",
              "          const dataTable =\n",
              "            await google.colab.kernel.invokeFunction('convertToInteractive',\n",
              "                                                     [key], {});\n",
              "          if (!dataTable) return;\n",
              "\n",
              "          const docLinkHtml = 'Like what you see? Visit the ' +\n",
              "            '<a target=\"_blank\" href=https://colab.research.google.com/notebooks/data_table.ipynb>data table notebook</a>'\n",
              "            + ' to learn more about interactive tables.';\n",
              "          element.innerHTML = '';\n",
              "          dataTable['output_type'] = 'display_data';\n",
              "          await google.colab.output.renderOutput(dataTable, element);\n",
              "          const docLink = document.createElement('div');\n",
              "          docLink.innerHTML = docLinkHtml;\n",
              "          element.appendChild(docLink);\n",
              "        }\n",
              "      </script>\n",
              "    </div>\n",
              "  </div>\n",
              "  "
            ]
          },
          "metadata": {},
          "execution_count": 15
        }
      ]
    },
    {
      "cell_type": "code",
      "source": [
        "sns.set(style=\"ticks\")\n",
        "\n",
        "figsize = (10, 10)\n",
        "fontsize = 15\n",
        "\n",
        "fig, ax = plt.subplots(figsize=figsize)\n",
        "sns.barplot(data=memory_df, x=\"name\", y=\"GPU_memory\", hue=\"grad\", ax=ax)\n",
        "ax.set_yscale(\"log\")\n",
        "ax.set_xlabel(\"Model\", fontsize=fontsize)\n",
        "ax.set_ylabel(\"GPU vRAM (log MB)\", fontsize=fontsize)\n",
        "ax.set_title(\"GPU vRAM usage during inference with and without torch.no_grad(), in MegaBytes\", fontsize=fontsize)\n",
        "ax.xaxis.set_tick_params(labelsize=fontsize)\n",
        "ax.yaxis.set_tick_params(labelsize=fontsize)\n",
        "ax.spines[\"right\"].set_visible(False)\n",
        "ax.spines[\"top\"].set_visible(False)\n",
        "ax.set_xticklabels(ax.get_xticklabels(), rotation=30)\n",
        "plt.setp(ax.get_legend().get_title(), fontsize=str(fontsize)) \n",
        "plt.setp(ax.get_legend().get_texts(), fontsize='13') \n",
        "ax.grid()\n",
        "plt.tight_layout()"
      ],
      "metadata": {
        "colab": {
          "base_uri": "https://localhost:8080/",
          "height": 725
        },
        "id": "4qz-XcoaSrXL",
        "outputId": "98b04f06-22c7-46e4-8b78-fd7671fc9099"
      },
      "execution_count": 19,
      "outputs": [
        {
          "output_type": "display_data",
          "data": {
            "text/plain": [
              "<Figure size 720x720 with 1 Axes>"
            ],
            "image/png": "[encoded data removed]"
          },
          "metadata": {}
        }
      ]
    },
    {
      "cell_type": "code",
      "source": [
        "fname=\"gpu_vram_grad_comparison.png\"\n",
        "fig.savefig(fname)\n",
        "files.download(fname) "
      ],
      "metadata": {
        "colab": {
          "base_uri": "https://localhost:8080/",
          "height": 17
        },
        "id": "cvUa-wwCVhES",
        "outputId": "96dabe6f-507b-42e2-e643-ca52d505c90f"
      },
      "execution_count": 21,
      "outputs": [
        {
          "output_type": "display_data",
          "data": {
            "text/plain": [
              "<IPython.core.display.Javascript object>"
            ],
            "application/javascript": [
              "\n",
              "    async function download(id, filename, size) {\n",
              "      if (!google.colab.kernel.accessAllowed) {\n",
              "        return;\n",
              "      }\n",
              "      const div = document.createElement('div');\n",
              "      const label = document.createElement('label');\n",
              "      label.textContent = `Downloading \"${filename}\": `;\n",
              "      div.appendChild(label);\n",
              "      const progress = document.createElement('progress');\n",
              "      progress.max = size;\n",
              "      div.appendChild(progress);\n",
              "      document.body.appendChild(div);\n",
              "\n",
              "      const buffers = [];\n",
              "      let downloaded = 0;\n",
              "\n",
              "      const channel = await google.colab.kernel.comms.open(id);\n",
              "      // Send a message to notify the kernel that we're ready.\n",
              "      channel.send({})\n",
              "\n",
              "      for await (const message of channel.messages) {\n",
              "        // Send a message to notify the kernel that we're ready.\n",
              "        channel.send({})\n",
              "        if (message.buffers) {\n",
              "          for (const buffer of message.buffers) {\n",
              "            buffers.push(buffer);\n",
              "            downloaded += buffer.byteLength;\n",
              "            progress.value = downloaded;\n",
              "          }\n",
              "        }\n",
              "      }\n",
              "      const blob = new Blob(buffers, {type: 'application/binary'});\n",
              "      const a = document.createElement('a');\n",
              "      a.href = window.URL.createObjectURL(blob);\n",
              "      a.download = filename;\n",
              "      div.appendChild(a);\n",
              "      a.click();\n",
              "      div.remove();\n",
              "    }\n",
              "  "
            ]
          },
          "metadata": {}
        },
        {
          "output_type": "display_data",
          "data": {
            "text/plain": [
              "<IPython.core.display.Javascript object>"
            ],
            "application/javascript": [
              "download(\"download_242c98e2-d1cb-4900-b4d3-b13dba7f3069\", \"gpu_vram_grad_comparison.png\", 42528)"
            ]
          },
          "metadata": {}
        }
      ]
    }
  ]
}