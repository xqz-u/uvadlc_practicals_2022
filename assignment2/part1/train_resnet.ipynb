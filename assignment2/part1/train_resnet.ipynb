{
 "cells": [
  {
   "cell_type": "code",
   "execution_count": null,
   "id": "de39f9d7-88fe-4577-9964-a8c6058edb00",
   "metadata": {},
   "outputs": [],
   "source": [
    "import torch\n",
    "\n",
    "import train"
   ]
  },
  {
   "cell_type": "code",
   "execution_count": null,
   "id": "19bac7d5-6360-44f3-a1f1-893f7a3351cf",
   "metadata": {},
   "outputs": [],
   "source": [
    "torch.backends.cudnn.benchmark = True\n",
    "device = torch.device(\"cuda\" if torch.cuda.is_available() else \"cpu\")\n",
    "\n",
    "train.setup_root_logging()"
   ]
  },
  {
   "cell_type": "code",
   "execution_count": null,
   "id": "8c55a33d-ae84-4614-8170-b1269ab71928",
   "metadata": {},
   "outputs": [],
   "source": [
    "seed = 123\n",
    "data_dir = \"/scratch/lcur0339\"\n",
    "augmentation_name = None\n",
    "batch_size = 128\n",
    "lr = 0.001\n",
    "epochs = 30\n",
    "\n",
    "kwargs = {\n",
    "    \"seed\": seed,\n",
    "    \"data_dir\": data_dir,\n",
    "    \"augmentation_name\": augmentation_name,\n",
    "    \"batch_size\": batch_size,\n",
    "    \"lr\": lr,\n",
    "    \"epochs\": epochs\n",
    "}"
   ]
  },
  {
   "cell_type": "code",
   "execution_count": null,
   "id": "e0e670a3-2d93-427c-8154-4822097163fc",
   "metadata": {},
   "outputs": [],
   "source": [
    "train.logger.info(\"Start training\")\n",
    "main(**kwargs)\n",
    "train.logger.info(\"End training\")"
   ]
  },
  {
   "cell_type": "code",
   "execution_count": null,
   "id": "a87b0fbb-81d6-4bd9-aec6-68d54f0e774a",
   "metadata": {},
   "outputs": [
    {
     "name": "stderr",
     "output_type": "stream",
     "text": [
      "p10565 [22-12-01 18:15] [INFO]  main start at 18:15:05  (Resnet18-ImageNet->Cifar100:4)\n",
      "p10565 [22-12-01 18:15] [INFO]  Main, device: cuda  (Resnet18-ImageNet->Cifar100:144)\n",
      "p10565 [22-12-01 18:15] [INFO]  model device: cuda:0  (Resnet18-ImageNet->Cifar100:147)\n"
     ]
    },
    {
     "name": "stdout",
     "output_type": "stream",
     "text": [
      "Downloading https://www.cs.toronto.edu/~kriz/cifar-100-python.tar.gz to /scratch/lcur0339/cifar-100-python.tar.gz\n"
     ]
    },
    {
     "data": {
      "application/vnd.jupyter.widget-view+json": {
       "model_id": "5aba579c22804614b60b6cdabd5a2a90",
       "version_major": 2,
       "version_minor": 0
      },
      "text/plain": [
       "  0%|          | 0/169001437 [00:00<?, ?it/s]"
      ]
     },
     "metadata": {},
     "output_type": "display_data"
    },
    {
     "name": "stdout",
     "output_type": "stream",
     "text": [
      "Extracting /scratch/lcur0339/cifar-100-python.tar.gz to /scratch/lcur0339\n",
      "Files already downloaded and verified\n"
     ]
    },
    {
     "name": "stderr",
     "output_type": "stream",
     "text": [
      "p10565 [22-12-01 18:15] [INFO]  ~ train datapoints: 45056  (Resnet18-ImageNet->Cifar100:90)\n",
      "p10565 [22-12-01 18:15] [INFO]  ~ validation datapoints: 5120  (Resnet18-ImageNet->Cifar100:91)\n",
      "p10565 [22-12-01 18:16] [INFO]  [0 train     ] mean loss: 2.601  (Resnet18-ImageNet->Cifar100:107)\n",
      "p10565 [22-12-01 18:17] [INFO]  [0 validation] mean accuracy: 0.539  (Resnet18-ImageNet->Cifar100:109)\n",
      "p10565 [22-12-01 18:17] [INFO]  [Epoch 0] update best model: /scratch/lcur0339/resnet18_cifar100_ckpt  (Resnet18-ImageNet->Cifar100:112)\n",
      "p10565 [22-12-01 18:18] [INFO]  [1 train     ] mean loss: 1.690  (Resnet18-ImageNet->Cifar100:107)\n",
      "p10565 [22-12-01 18:18] [INFO]  [1 validation] mean accuracy: 0.552  (Resnet18-ImageNet->Cifar100:109)\n",
      "p10565 [22-12-01 18:18] [INFO]  [Epoch 1] update best model: /scratch/lcur0339/resnet18_cifar100_ckpt  (Resnet18-ImageNet->Cifar100:112)\n",
      "p10565 [22-12-01 18:20] [INFO]  [2 train     ] mean loss: 1.513  (Resnet18-ImageNet->Cifar100:107)\n",
      "p10565 [22-12-01 18:20] [INFO]  [2 validation] mean accuracy: 0.582  (Resnet18-ImageNet->Cifar100:109)\n",
      "p10565 [22-12-01 18:20] [INFO]  [Epoch 2] update best model: /scratch/lcur0339/resnet18_cifar100_ckpt  (Resnet18-ImageNet->Cifar100:112)\n",
      "p10565 [22-12-01 18:22] [INFO]  [3 train     ] mean loss: 1.419  (Resnet18-ImageNet->Cifar100:107)\n",
      "p10565 [22-12-01 18:22] [INFO]  [3 validation] mean accuracy: 0.575  (Resnet18-ImageNet->Cifar100:109)\n",
      "p10565 [22-12-01 18:24] [INFO]  [4 train     ] mean loss: 1.359  (Resnet18-ImageNet->Cifar100:107)\n",
      "p10565 [22-12-01 18:24] [INFO]  [4 validation] mean accuracy: 0.584  (Resnet18-ImageNet->Cifar100:109)\n",
      "p10565 [22-12-01 18:24] [INFO]  [Epoch 4] update best model: /scratch/lcur0339/resnet18_cifar100_ckpt  (Resnet18-ImageNet->Cifar100:112)\n",
      "p10565 [22-12-01 18:25] [INFO]  [5 train     ] mean loss: 1.313  (Resnet18-ImageNet->Cifar100:107)\n",
      "p10565 [22-12-01 18:25] [INFO]  [5 validation] mean accuracy: 0.584  (Resnet18-ImageNet->Cifar100:109)\n",
      "p10565 [22-12-01 18:27] [INFO]  [6 train     ] mean loss: 1.275  (Resnet18-ImageNet->Cifar100:107)\n",
      "p10565 [22-12-01 18:27] [INFO]  [6 validation] mean accuracy: 0.598  (Resnet18-ImageNet->Cifar100:109)\n",
      "p10565 [22-12-01 18:27] [INFO]  [Epoch 6] update best model: /scratch/lcur0339/resnet18_cifar100_ckpt  (Resnet18-ImageNet->Cifar100:112)\n",
      "p10565 [22-12-01 18:29] [INFO]  [7 train     ] mean loss: 1.246  (Resnet18-ImageNet->Cifar100:107)\n",
      "p10565 [22-12-01 18:29] [INFO]  [7 validation] mean accuracy: 0.598  (Resnet18-ImageNet->Cifar100:109)\n",
      "p10565 [22-12-01 18:29] [INFO]  [Epoch 7] update best model: /scratch/lcur0339/resnet18_cifar100_ckpt  (Resnet18-ImageNet->Cifar100:112)\n",
      "p10565 [22-12-01 18:30] [INFO]  [8 train     ] mean loss: 1.226  (Resnet18-ImageNet->Cifar100:107)\n",
      "p10565 [22-12-01 18:31] [INFO]  [8 validation] mean accuracy: 0.588  (Resnet18-ImageNet->Cifar100:109)\n",
      "p10565 [22-12-01 18:32] [INFO]  [9 train     ] mean loss: 1.202  (Resnet18-ImageNet->Cifar100:107)\n",
      "p10565 [22-12-01 18:32] [INFO]  [9 validation] mean accuracy: 0.588  (Resnet18-ImageNet->Cifar100:109)\n",
      "p10565 [22-12-01 18:34] [INFO]  [10 train     ] mean loss: 1.184  (Resnet18-ImageNet->Cifar100:107)\n",
      "p10565 [22-12-01 18:34] [INFO]  [10 validation] mean accuracy: 0.587  (Resnet18-ImageNet->Cifar100:109)\n",
      "p10565 [22-12-01 18:36] [INFO]  [11 train     ] mean loss: 1.171  (Resnet18-ImageNet->Cifar100:107)\n",
      "p10565 [22-12-01 18:36] [INFO]  [11 validation] mean accuracy: 0.594  (Resnet18-ImageNet->Cifar100:109)\n",
      "p10565 [22-12-01 18:37] [INFO]  [12 train     ] mean loss: 1.159  (Resnet18-ImageNet->Cifar100:107)\n",
      "p10565 [22-12-01 18:37] [INFO]  [12 validation] mean accuracy: 0.590  (Resnet18-ImageNet->Cifar100:109)\n",
      "p10565 [22-12-01 18:39] [INFO]  [13 train     ] mean loss: 1.139  (Resnet18-ImageNet->Cifar100:107)\n",
      "p10565 [22-12-01 18:39] [INFO]  [13 validation] mean accuracy: 0.584  (Resnet18-ImageNet->Cifar100:109)\n",
      "p10565 [22-12-01 18:41] [INFO]  [14 train     ] mean loss: 1.129  (Resnet18-ImageNet->Cifar100:107)\n",
      "p10565 [22-12-01 18:41] [INFO]  [14 validation] mean accuracy: 0.585  (Resnet18-ImageNet->Cifar100:109)\n",
      "p10565 [22-12-01 18:42] [INFO]  [15 train     ] mean loss: 1.115  (Resnet18-ImageNet->Cifar100:107)\n",
      "p10565 [22-12-01 18:43] [INFO]  [15 validation] mean accuracy: 0.588  (Resnet18-ImageNet->Cifar100:109)\n",
      "p10565 [22-12-01 18:44] [INFO]  [16 train     ] mean loss: 1.105  (Resnet18-ImageNet->Cifar100:107)\n",
      "p10565 [22-12-01 18:44] [INFO]  [16 validation] mean accuracy: 0.587  (Resnet18-ImageNet->Cifar100:109)\n",
      "p10565 [22-12-01 18:46] [INFO]  [17 train     ] mean loss: 1.095  (Resnet18-ImageNet->Cifar100:107)\n",
      "p10565 [22-12-01 18:46] [INFO]  [17 validation] mean accuracy: 0.586  (Resnet18-ImageNet->Cifar100:109)\n",
      "p10565 [22-12-01 18:48] [INFO]  [18 train     ] mean loss: 1.084  (Resnet18-ImageNet->Cifar100:107)\n",
      "p10565 [22-12-01 18:48] [INFO]  [18 validation] mean accuracy: 0.590  (Resnet18-ImageNet->Cifar100:109)\n",
      "p10565 [22-12-01 18:49] [INFO]  [19 train     ] mean loss: 1.078  (Resnet18-ImageNet->Cifar100:107)\n",
      "p10565 [22-12-01 18:50] [INFO]  [19 validation] mean accuracy: 0.586  (Resnet18-ImageNet->Cifar100:109)\n",
      "p10565 [22-12-01 18:51] [INFO]  [20 train     ] mean loss: 1.076  (Resnet18-ImageNet->Cifar100:107)\n",
      "p10565 [22-12-01 18:51] [INFO]  [20 validation] mean accuracy: 0.593  (Resnet18-ImageNet->Cifar100:109)\n",
      "p10565 [22-12-01 18:53] [INFO]  [21 train     ] mean loss: 1.063  (Resnet18-ImageNet->Cifar100:107)\n",
      "p10565 [22-12-01 18:53] [INFO]  [21 validation] mean accuracy: 0.585  (Resnet18-ImageNet->Cifar100:109)\n",
      "p10565 [22-12-01 18:55] [INFO]  [22 train     ] mean loss: 1.058  (Resnet18-ImageNet->Cifar100:107)\n",
      "p10565 [22-12-01 18:55] [INFO]  [22 validation] mean accuracy: 0.587  (Resnet18-ImageNet->Cifar100:109)\n",
      "p10565 [22-12-01 18:56] [INFO]  [23 train     ] mean loss: 1.048  (Resnet18-ImageNet->Cifar100:107)\n",
      "p10565 [22-12-01 18:57] [INFO]  [23 validation] mean accuracy: 0.585  (Resnet18-ImageNet->Cifar100:109)\n",
      "p10565 [22-12-01 18:58] [INFO]  [24 train     ] mean loss: 1.046  (Resnet18-ImageNet->Cifar100:107)\n",
      "p10565 [22-12-01 18:58] [INFO]  [24 validation] mean accuracy: 0.596  (Resnet18-ImageNet->Cifar100:109)\n",
      "p10565 [22-12-01 19:00] [INFO]  [25 train     ] mean loss: 1.039  (Resnet18-ImageNet->Cifar100:107)\n",
      "p10565 [22-12-01 19:00] [INFO]  [25 validation] mean accuracy: 0.589  (Resnet18-ImageNet->Cifar100:109)\n",
      "p10565 [22-12-01 19:02] [INFO]  [26 train     ] mean loss: 1.031  (Resnet18-ImageNet->Cifar100:107)\n",
      "p10565 [22-12-01 19:02] [INFO]  [26 validation] mean accuracy: 0.589  (Resnet18-ImageNet->Cifar100:109)\n",
      "p10565 [22-12-01 19:03] [INFO]  [27 train     ] mean loss: 1.026  (Resnet18-ImageNet->Cifar100:107)\n",
      "p10565 [22-12-01 19:03] [INFO]  [27 validation] mean accuracy: 0.594  (Resnet18-ImageNet->Cifar100:109)\n",
      "p10565 [22-12-01 19:05] [INFO]  [28 train     ] mean loss: 1.019  (Resnet18-ImageNet->Cifar100:107)\n",
      "p10565 [22-12-01 19:05] [INFO]  [28 validation] mean accuracy: 0.581  (Resnet18-ImageNet->Cifar100:109)\n",
      "p10565 [22-12-01 19:07] [INFO]  [29 train     ] mean loss: 1.016  (Resnet18-ImageNet->Cifar100:107)\n",
      "p10565 [22-12-01 19:07] [INFO]  [29 validation] mean accuracy: 0.590  (Resnet18-ImageNet->Cifar100:109)\n"
     ]
    },
    {
     "name": "stdout",
     "output_type": "stream",
     "text": [
      "Files already downloaded and verified\n"
     ]
    },
    {
     "name": "stderr",
     "output_type": "stream",
     "text": [
      "p10565 [22-12-01 19:07] [INFO]  ~ test datapoints: 10112  (Resnet18-ImageNet->Cifar100:164)\n",
      "p10565 [22-12-01 19:07] [INFO]  Mean test accuracy: 0.590  (Resnet18-ImageNet->Cifar100:166)\n",
      "p10565 [22-12-01 19:07] [INFO]  main end at 19:07:44  (Resnet18-ImageNet->Cifar100:9)\n"
     ]
    }
   ],
   "source": [
    "#from datetime import datetime\n",
    "#\n",
    "#start = datetime.now().strftime(\"%H:%M:%S\")\n",
    "#logger.info(f\"main start at {start}\")\n",
    "#\n",
    "#main(lr, batch_size, epochs, data_dir, seed, augmentation_name)\n",
    "#end = datetime.now().strftime(\"%H:%M:%S\")\n",
    "#\n",
    "#logger.info(f\"main end at {end}\")"
   ]
  }
 ],
 "metadata": {
  "kernelspec": {
   "display_name": "Python 3 (ipykernel)",
   "language": "python",
   "name": "python3"
  }
 },
 "nbformat": 4,
 "nbformat_minor": 5
}
