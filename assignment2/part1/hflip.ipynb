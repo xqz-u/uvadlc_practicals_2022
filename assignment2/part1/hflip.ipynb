{
 "cells": [
  {
   "cell_type": "code",
   "execution_count": null,
   "id": "de39f9d7-88fe-4577-9964-a8c6058edb00",
   "metadata": {},
   "outputs": [],
   "source": [
    "import torch\n",
    "\n",
    "import train"
   ]
  },
  {
   "cell_type": "code",
   "execution_count": null,
   "id": "19bac7d5-6360-44f3-a1f1-893f7a3351cf",
   "metadata": {},
   "outputs": [],
   "source": [
    "torch.backends.cudnn.benchmark = True\n",
    "device = torch.device(\"cuda\" if torch.cuda.is_available() else \"cpu\")\n",
    "\n",
    "train.setup_root_logging()"
   ]
  },
  {
   "cell_type": "code",
   "execution_count": null,
   "id": "8c55a33d-ae84-4614-8170-b1269ab71928",
   "metadata": {},
   "outputs": [],
   "source": [
    "seed = 123\n",
    "data_dir = \"/scratch/lcur0339\"\n",
    "augmentation_name = \"rand_hflip\"\n",
    "batch_size = 128\n",
    "lr = 0.001\n",
    "epochs = 30\n",
    "\n",
    "kwargs = {\n",
    "    \"seed\": seed,\n",
    "    \"data_dir\": data_dir,\n",
    "    \"augmentation_name\": augmentation_name,\n",
    "    \"batch_size\": batch_size,\n",
    "    \"lr\": lr,\n",
    "    \"epochs\": epochs\n",
    "}"
   ]
  },
  {
   "cell_type": "code",
   "execution_count": null,
   "id": "e0e670a3-2d93-427c-8154-4822097163fc",
   "metadata": {},
   "outputs": [
    {
     "name": "stderr",
     "output_type": "stream",
     "text": [
      "p5623 [22-12-01 20:00] [INFO]  Start training  (Resnet18-ImageNet->Cifar100:1)\n",
      "p5623 [22-12-01 20:00] [INFO]  Main, device: cuda  (Resnet18-ImageNet->Cifar100:232)\n",
      "p5623 [22-12-01 20:00] [INFO]  model device: cuda:0  (Resnet18-ImageNet->Cifar100:235)\n",
      "p5623 [22-12-01 20:00] [INFO]  Pulling augmentation: rand_hflip  (cifar100_utils:44)\n"
     ]
    },
    {
     "name": "stdout",
     "output_type": "stream",
     "text": [
      "Files already downloaded and verified\n",
      "Files already downloaded and verified\n"
     ]
    },
    {
     "name": "stderr",
     "output_type": "stream",
     "text": [
      "p5623 [22-12-01 20:00] [INFO]  ~ train datapoints: 45056  (Resnet18-ImageNet->Cifar100:153)\n",
      "p5623 [22-12-01 20:00] [INFO]  ~ validation datapoints: 5120  (Resnet18-ImageNet->Cifar100:154)\n",
      "p5623 [22-12-01 20:02] [INFO]  [0 train     ] mean loss: 2.602  (Resnet18-ImageNet->Cifar100:170)\n",
      "p5623 [22-12-01 20:02] [INFO]  [0 validation] mean accuracy: 0.536  (Resnet18-ImageNet->Cifar100:172)\n",
      "p5623 [22-12-01 20:02] [INFO]  [Epoch 0] update best model: /scratch/lcur0339/resnet18_cifar100_ckpt  (Resnet18-ImageNet->Cifar100:175)\n",
      "p5623 [22-12-01 20:04] [INFO]  [1 train     ] mean loss: 1.706  (Resnet18-ImageNet->Cifar100:170)\n",
      "p5623 [22-12-01 20:04] [INFO]  [1 validation] mean accuracy: 0.566  (Resnet18-ImageNet->Cifar100:172)\n",
      "p5623 [22-12-01 20:04] [INFO]  [Epoch 1] update best model: /scratch/lcur0339/resnet18_cifar100_ckpt  (Resnet18-ImageNet->Cifar100:175)\n",
      "p5623 [22-12-01 20:06] [INFO]  [2 train     ] mean loss: 1.530  (Resnet18-ImageNet->Cifar100:170)\n",
      "p5623 [22-12-01 20:07] [INFO]  [2 validation] mean accuracy: 0.579  (Resnet18-ImageNet->Cifar100:172)\n",
      "p5623 [22-12-01 20:07] [INFO]  [Epoch 2] update best model: /scratch/lcur0339/resnet18_cifar100_ckpt  (Resnet18-ImageNet->Cifar100:175)\n",
      "p5623 [22-12-01 20:08] [INFO]  [3 train     ] mean loss: 1.444  (Resnet18-ImageNet->Cifar100:170)\n",
      "p5623 [22-12-01 20:09] [INFO]  [3 validation] mean accuracy: 0.584  (Resnet18-ImageNet->Cifar100:172)\n",
      "p5623 [22-12-01 20:09] [INFO]  [Epoch 3] update best model: /scratch/lcur0339/resnet18_cifar100_ckpt  (Resnet18-ImageNet->Cifar100:175)\n",
      "p5623 [22-12-01 20:10] [INFO]  [4 train     ] mean loss: 1.395  (Resnet18-ImageNet->Cifar100:170)\n",
      "p5623 [22-12-01 20:11] [INFO]  [4 validation] mean accuracy: 0.576  (Resnet18-ImageNet->Cifar100:172)\n",
      "p5623 [22-12-01 20:12] [INFO]  [5 train     ] mean loss: 1.357  (Resnet18-ImageNet->Cifar100:170)\n",
      "p5623 [22-12-01 20:13] [INFO]  [5 validation] mean accuracy: 0.595  (Resnet18-ImageNet->Cifar100:172)\n",
      "p5623 [22-12-01 20:13] [INFO]  [Epoch 5] update best model: /scratch/lcur0339/resnet18_cifar100_ckpt  (Resnet18-ImageNet->Cifar100:175)\n",
      "p5623 [22-12-01 20:15] [INFO]  [6 train     ] mean loss: 1.318  (Resnet18-ImageNet->Cifar100:170)\n",
      "p5623 [22-12-01 20:15] [INFO]  [6 validation] mean accuracy: 0.585  (Resnet18-ImageNet->Cifar100:172)\n",
      "p5623 [22-12-01 20:17] [INFO]  [7 train     ] mean loss: 1.304  (Resnet18-ImageNet->Cifar100:170)\n",
      "p5623 [22-12-01 20:17] [INFO]  [7 validation] mean accuracy: 0.592  (Resnet18-ImageNet->Cifar100:172)\n",
      "p5623 [22-12-01 20:19] [INFO]  [8 train     ] mean loss: 1.275  (Resnet18-ImageNet->Cifar100:170)\n",
      "p5623 [22-12-01 20:19] [INFO]  [8 validation] mean accuracy: 0.592  (Resnet18-ImageNet->Cifar100:172)\n",
      "p5623 [22-12-01 20:21] [INFO]  [9 train     ] mean loss: 1.259  (Resnet18-ImageNet->Cifar100:170)\n",
      "p5623 [22-12-01 20:21] [INFO]  [9 validation] mean accuracy: 0.593  (Resnet18-ImageNet->Cifar100:172)\n",
      "p5623 [22-12-01 20:23] [INFO]  [10 train     ] mean loss: 1.248  (Resnet18-ImageNet->Cifar100:170)\n",
      "p5623 [22-12-01 20:23] [INFO]  [10 validation] mean accuracy: 0.595  (Resnet18-ImageNet->Cifar100:172)\n",
      "p5623 [22-12-01 20:23] [INFO]  [Epoch 10] update best model: /scratch/lcur0339/resnet18_cifar100_ckpt  (Resnet18-ImageNet->Cifar100:175)\n",
      "p5623 [22-12-01 20:25] [INFO]  [11 train     ] mean loss: 1.233  (Resnet18-ImageNet->Cifar100:170)\n",
      "p5623 [22-12-01 20:25] [INFO]  [11 validation] mean accuracy: 0.590  (Resnet18-ImageNet->Cifar100:172)\n",
      "p5623 [22-12-01 20:27] [INFO]  [12 train     ] mean loss: 1.216  (Resnet18-ImageNet->Cifar100:170)\n",
      "p5623 [22-12-01 20:27] [INFO]  [12 validation] mean accuracy: 0.595  (Resnet18-ImageNet->Cifar100:172)\n",
      "p5623 [22-12-01 20:29] [INFO]  [13 train     ] mean loss: 1.210  (Resnet18-ImageNet->Cifar100:170)\n",
      "p5623 [22-12-01 20:29] [INFO]  [13 validation] mean accuracy: 0.596  (Resnet18-ImageNet->Cifar100:172)\n",
      "p5623 [22-12-01 20:29] [INFO]  [Epoch 13] update best model: /scratch/lcur0339/resnet18_cifar100_ckpt  (Resnet18-ImageNet->Cifar100:175)\n",
      "p5623 [22-12-01 20:31] [INFO]  [14 train     ] mean loss: 1.200  (Resnet18-ImageNet->Cifar100:170)\n",
      "p5623 [22-12-01 20:31] [INFO]  [14 validation] mean accuracy: 0.597  (Resnet18-ImageNet->Cifar100:172)\n",
      "p5623 [22-12-01 20:31] [INFO]  [Epoch 14] update best model: /scratch/lcur0339/resnet18_cifar100_ckpt  (Resnet18-ImageNet->Cifar100:175)\n"
     ]
    },
    {
     "name": "stdout",
     "output_type": "stream",
     "text": [
      "Files already downloaded and verified\n"
     ]
    },
    {
     "name": "stderr",
     "output_type": "stream",
     "text": [
      "p5623 [22-12-01 20:31] [INFO]  ~ test datapoints: 10112  (Resnet18-ImageNet->Cifar100:250)\n",
      "p5623 [22-12-01 20:32] [INFO]  Mean test accuracy: 0.584  (Resnet18-ImageNet->Cifar100:252)\n",
      "p5623 [22-12-01 20:32] [INFO]  End training  (Resnet18-ImageNet->Cifar100:3)\n"
     ]
    }
   ],
   "source": [
    "train.logger.info(\"Start training\")\n",
    "train.main(**kwargs)\n",
    "train.logger.info(\"End training\")"
   ]
  }
 ],
 "metadata": {
  "kernelspec": {
   "display_name": "Python 3 (ipykernel)",
   "language": "python",
   "name": "python3"
  }
 },
 "nbformat": 4,
 "nbformat_minor": 5
}
