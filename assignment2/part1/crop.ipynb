{
 "cells": [
  {
   "cell_type": "code",
   "execution_count": null,
   "id": "a030c285-61d5-45c1-82c4-3f1d561273de",
   "metadata": {},
   "outputs": [],
   "source": [
    "import torch\n",
    "\n",
    "import train"
   ]
  },
  {
   "cell_type": "code",
   "execution_count": null,
   "id": "5c127edf-78b8-495b-be8d-f794c93487d3",
   "metadata": {},
   "outputs": [],
   "source": [
    "torch.backends.cudnn.benchmark = True\n",
    "device = torch.device(\"cuda\" if torch.cuda.is_available() else \"cpu\")\n",
    "\n",
    "train.setup_root_logging()"
   ]
  },
  {
   "cell_type": "code",
   "execution_count": null,
   "id": "dcf9ee06-ea62-4962-8aa5-202659440785",
   "metadata": {},
   "outputs": [],
   "source": [
    "seed = 123\n",
    "data_dir = \"/scratch/lcur0339\"\n",
    "augmentation_name = \"rand_crop\"\n",
    "batch_size = 128\n",
    "lr = 0.001\n",
    "epochs = 30\n",
    "\n",
    "kwargs = {\n",
    "    \"seed\": seed,\n",
    "    \"data_dir\": data_dir,\n",
    "    \"augmentation_name\": augmentation_name,\n",
    "    \"batch_size\": batch_size,\n",
    "    \"lr\": lr,\n",
    "    \"epochs\": epochs\n",
    "}"
   ]
  },
  {
   "cell_type": "code",
   "execution_count": null,
   "id": "9999edf4-7214-406c-9661-d27969cfa43e",
   "metadata": {},
   "outputs": [
    {
     "name": "stderr",
     "output_type": "stream",
     "text": [
      "p23028 [22-12-01 20:44] [INFO]  Start training  (Resnet18-ImageNet->Cifar100:1)\n",
      "p23028 [22-12-01 20:44] [INFO]  Main, device: cuda  (Resnet18-ImageNet->Cifar100:232)\n",
      "p23028 [22-12-01 20:44] [INFO]  model device: cuda:0  (Resnet18-ImageNet->Cifar100:235)\n",
      "p23028 [22-12-01 20:44] [INFO]  Pulling augmentation: rand_crop  (cifar100_utils:44)\n"
     ]
    },
    {
     "name": "stdout",
     "output_type": "stream",
     "text": [
      "Files already downloaded and verified\n",
      "Files already downloaded and verified\n"
     ]
    },
    {
     "name": "stderr",
     "output_type": "stream",
     "text": [
      "p23028 [22-12-01 20:45] [INFO]  ~ train datapoints: 45056  (Resnet18-ImageNet->Cifar100:153)\n",
      "p23028 [22-12-01 20:45] [INFO]  ~ validation datapoints: 5120  (Resnet18-ImageNet->Cifar100:154)\n",
      "p23028 [22-12-01 20:47] [INFO]  [0 train     ] mean loss: 2.824  (Resnet18-ImageNet->Cifar100:170)\n",
      "p23028 [22-12-01 20:47] [INFO]  [0 validation] mean accuracy: 0.475  (Resnet18-ImageNet->Cifar100:172)\n",
      "p23028 [22-12-01 20:47] [INFO]  [Epoch 0] update best model: /scratch/lcur0339/resnet18_cifar100_ckpt  (Resnet18-ImageNet->Cifar100:175)\n",
      "p23028 [22-12-01 20:49] [INFO]  [1 train     ] mean loss: 1.964  (Resnet18-ImageNet->Cifar100:170)\n",
      "p23028 [22-12-01 20:49] [INFO]  [1 validation] mean accuracy: 0.513  (Resnet18-ImageNet->Cifar100:172)\n",
      "p23028 [22-12-01 20:49] [INFO]  [Epoch 1] update best model: /scratch/lcur0339/resnet18_cifar100_ckpt  (Resnet18-ImageNet->Cifar100:175)\n",
      "p23028 [22-12-01 20:52] [INFO]  [2 train     ] mean loss: 1.791  (Resnet18-ImageNet->Cifar100:170)\n",
      "p23028 [22-12-01 20:52] [INFO]  [2 validation] mean accuracy: 0.534  (Resnet18-ImageNet->Cifar100:172)\n",
      "p23028 [22-12-01 20:52] [INFO]  [Epoch 2] update best model: /scratch/lcur0339/resnet18_cifar100_ckpt  (Resnet18-ImageNet->Cifar100:175)\n",
      "p23028 [22-12-01 20:54] [INFO]  [3 train     ] mean loss: 1.700  (Resnet18-ImageNet->Cifar100:170)\n",
      "p23028 [22-12-01 20:54] [INFO]  [3 validation] mean accuracy: 0.530  (Resnet18-ImageNet->Cifar100:172)\n",
      "p23028 [22-12-01 20:56] [INFO]  [4 train     ] mean loss: 1.652  (Resnet18-ImageNet->Cifar100:170)\n",
      "p23028 [22-12-01 20:57] [INFO]  [4 validation] mean accuracy: 0.546  (Resnet18-ImageNet->Cifar100:172)\n",
      "p23028 [22-12-01 20:57] [INFO]  [Epoch 4] update best model: /scratch/lcur0339/resnet18_cifar100_ckpt  (Resnet18-ImageNet->Cifar100:175)\n",
      "p23028 [22-12-01 20:59] [INFO]  [5 train     ] mean loss: 1.619  (Resnet18-ImageNet->Cifar100:170)\n",
      "p23028 [22-12-01 20:59] [INFO]  [5 validation] mean accuracy: 0.546  (Resnet18-ImageNet->Cifar100:172)\n",
      "p23028 [22-12-01 20:59] [INFO]  [Epoch 5] update best model: /scratch/lcur0339/resnet18_cifar100_ckpt  (Resnet18-ImageNet->Cifar100:175)\n",
      "p23028 [22-12-01 21:01] [INFO]  [6 train     ] mean loss: 1.590  (Resnet18-ImageNet->Cifar100:170)\n",
      "p23028 [22-12-01 21:01] [INFO]  [6 validation] mean accuracy: 0.552  (Resnet18-ImageNet->Cifar100:172)\n",
      "p23028 [22-12-01 21:01] [INFO]  [Epoch 6] update best model: /scratch/lcur0339/resnet18_cifar100_ckpt  (Resnet18-ImageNet->Cifar100:175)\n",
      "p23028 [22-12-01 21:03] [INFO]  [7 train     ] mean loss: 1.566  (Resnet18-ImageNet->Cifar100:170)\n",
      "p23028 [22-12-01 21:04] [INFO]  [7 validation] mean accuracy: 0.553  (Resnet18-ImageNet->Cifar100:172)\n",
      "p23028 [22-12-01 21:04] [INFO]  [Epoch 7] update best model: /scratch/lcur0339/resnet18_cifar100_ckpt  (Resnet18-ImageNet->Cifar100:175)\n",
      "p23028 [22-12-01 21:06] [INFO]  [8 train     ] mean loss: 1.544  (Resnet18-ImageNet->Cifar100:170)\n",
      "p23028 [22-12-01 21:06] [INFO]  [8 validation] mean accuracy: 0.564  (Resnet18-ImageNet->Cifar100:172)\n",
      "p23028 [22-12-01 21:06] [INFO]  [Epoch 8] update best model: /scratch/lcur0339/resnet18_cifar100_ckpt  (Resnet18-ImageNet->Cifar100:175)\n",
      "p23028 [22-12-01 21:08] [INFO]  [9 train     ] mean loss: 1.534  (Resnet18-ImageNet->Cifar100:170)\n",
      "p23028 [22-12-01 21:08] [INFO]  [9 validation] mean accuracy: 0.557  (Resnet18-ImageNet->Cifar100:172)\n",
      "p23028 [22-12-01 21:11] [INFO]  [10 train     ] mean loss: 1.510  (Resnet18-ImageNet->Cifar100:170)\n",
      "p23028 [22-12-01 21:11] [INFO]  [10 validation] mean accuracy: 0.552  (Resnet18-ImageNet->Cifar100:172)\n",
      "p23028 [22-12-01 21:13] [INFO]  [11 train     ] mean loss: 1.507  (Resnet18-ImageNet->Cifar100:170)\n",
      "p23028 [22-12-01 21:13] [INFO]  [11 validation] mean accuracy: 0.557  (Resnet18-ImageNet->Cifar100:172)\n",
      "p23028 [22-12-01 21:15] [INFO]  [12 train     ] mean loss: 1.488  (Resnet18-ImageNet->Cifar100:170)\n",
      "p23028 [22-12-01 21:15] [INFO]  [12 validation] mean accuracy: 0.560  (Resnet18-ImageNet->Cifar100:172)\n",
      "p23028 [22-12-01 21:18] [INFO]  [13 train     ] mean loss: 1.479  (Resnet18-ImageNet->Cifar100:170)\n",
      "p23028 [22-12-01 21:18] [INFO]  [13 validation] mean accuracy: 0.557  (Resnet18-ImageNet->Cifar100:172)\n",
      "p23028 [22-12-01 21:20] [INFO]  [14 train     ] mean loss: 1.483  (Resnet18-ImageNet->Cifar100:170)\n",
      "p23028 [22-12-01 21:20] [INFO]  [14 validation] mean accuracy: 0.554  (Resnet18-ImageNet->Cifar100:172)\n"
     ]
    },
    {
     "name": "stdout",
     "output_type": "stream",
     "text": [
      "Files already downloaded and verified\n"
     ]
    },
    {
     "name": "stderr",
     "output_type": "stream",
     "text": [
      "p23028 [22-12-01 21:20] [INFO]  ~ test datapoints: 10112  (Resnet18-ImageNet->Cifar100:250)\n",
      "p23028 [22-12-01 21:21] [INFO]  Mean test accuracy: 0.554  (Resnet18-ImageNet->Cifar100:252)\n",
      "p23028 [22-12-01 21:21] [INFO]  End training  (Resnet18-ImageNet->Cifar100:3)\n"
     ]
    }
   ],
   "source": [
    "train.logger.info(\"Start training\")\n",
    "train.main(**kwargs)\n",
    "train.logger.info(\"End training\")"
   ]
  }
 ],
 "metadata": {
  "kernelspec": {
   "display_name": "Python 3 (ipykernel)",
   "language": "python",
   "name": "python3"
  }
 },
 "nbformat": 4,
 "nbformat_minor": 5
}
