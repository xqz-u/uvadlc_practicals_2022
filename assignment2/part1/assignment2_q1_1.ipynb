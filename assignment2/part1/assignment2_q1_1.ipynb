{
  "nbformat": 4,
  "nbformat_minor": 0,
  "metadata": {
    "colab": {
      "provenance": []
    },
    "kernelspec": {
      "name": "python3",
      "display_name": "Python 3"
    },
    "language_info": {
      "name": "python"
    },
    "accelerator": "GPU",
    "gpuClass": "standard"
  },
  "cells": [
    {
      "cell_type": "code",
      "execution_count": 1,
      "metadata": {
        "id": "bcB_Hu7ucz00"
      },
      "outputs": [],
      "source": [
        "import numpy as np\n",
        "import torch\n",
        "from torch import nn\n",
        "from torchvision import models as tvmodels\n",
        "import pandas as pd\n",
        "import seaborn as sns\n",
        "from matplotlib import pyplot as plt\n",
        "from typing import Dict, Tuple\n",
        "from google.colab import files"
      ]
    },
    {
      "cell_type": "code",
      "source": [
        "device = \"cuda\" if torch.cuda.is_available() else \"cpu\"\n",
        "print(f\"Device: {device}\")"
      ],
      "metadata": {
        "colab": {
          "base_uri": "https://localhost:8080/"
        },
        "id": "UfO9_2Jb-ARz",
        "outputId": "a8fbd481-187a-4425-c12a-e2f3f6cd7b50"
      },
      "execution_count": 2,
      "outputs": [
        {
          "output_type": "stream",
          "name": "stdout",
          "text": [
            "Device: cuda\n"
          ]
        }
      ]
    },
    {
      "cell_type": "code",
      "source": [
        "def set_seed(seed):\n",
        "    \"\"\"\n",
        "    Function for setting the seed for reproducibility.\n",
        "    \"\"\"\n",
        "    np.random.seed(seed)\n",
        "    torch.manual_seed(seed)\n",
        "    if torch.cuda.is_available():\n",
        "        torch.cuda.manual_seed(seed)\n",
        "        torch.cuda.manual_seed_all(seed)\n",
        "    torch.backends.cudnn.deterministic = True\n",
        "    torch.backends.cudnn.benchmark = False\n",
        "\n",
        "\n",
        "def warmup(model, dummy_in, warmup_steps=600, **_):\n",
        "    dummy_in = dummy_in[None, :]\n",
        "    for _ in range(warmup_steps):\n",
        "        model(dummy_in)\n",
        "\n",
        "\n",
        "#Questions:\n",
        "#- should I account for preprocessing time?\n",
        "#- should I warmup every model?\n",
        "def eval_model(model, dummy_inputs, preprocess_fn, use_grad=False, **kwargs):\n",
        "    model.eval()\n",
        "    warmup(model, dummy_inputs[0], **kwargs)\n",
        "\n",
        "    start_event = torch.cuda.Event(enable_timing=True)\n",
        "    end_event = torch.cuda.Event(enable_timing=True)\n",
        "    records = np.zeros(len(dummy_inputs) - 1)\n",
        "\n",
        "    with torch.set_grad_enabled(use_grad):\n",
        "        for rep, dummy_input in enumerate(dummy_inputs[1:]):\n",
        "            dummy_input = preprocess_fn(dummy_input)\n",
        "            start_event.record()\n",
        "            model(dummy_input[None, :])\n",
        "            end_event.record()\n",
        "            torch.cuda.synchronize()\n",
        "            records[rep] = start_event.elapsed_time(end_event)\n",
        "            \n",
        "    return records\n",
        "\n",
        "\n",
        "def num_params(model):\n",
        "    return sum(int(np.prod(p.shape)) for p in model.parameters())\n",
        "\n",
        "\n",
        "def eval_one_model(model_builder, weights, accuracy, dummy_inputs, **kwargs):\n",
        "    weights = weights.DEFAULT\n",
        "    model = model_builder(weights=weights).to(device)\n",
        "    times = eval_model(model, dummy_inputs, weights.transforms(), **kwargs)\n",
        "    return {\n",
        "        \"name\": model_builder.__name__,\n",
        "        \"acc@1\": accuracy,\n",
        "        \"num_params\": num_params(model),\n",
        "        \"inference_mean\": times.mean(),\n",
        "        \"inference_std\": times.std(),\n",
        "    }\n",
        "\n",
        "\n",
        "def show_models_comparison(\n",
        "    df: pd.DataFrame,\n",
        "    xvar: str,\n",
        "    yvar: str,\n",
        "    xlab: str,\n",
        "    ylab: str,\n",
        "    title: str,\n",
        "    text_coords: Dict[str, Tuple[Tuple[float, float], str, str]] = None,\n",
        "    yscale: str=None,\n",
        "    fontsize=15,\n",
        "    figsize=(10, 10),\n",
        "    verbose=False\n",
        ") -> Tuple[plt.Figure, plt.Axes]:\n",
        "    fig, ax = plt.subplots(figsize=figsize)\n",
        "    sns.scatterplot(data=df, x=xvar, y=yvar, hue=\"name\", ax=ax, legend=False, s=70)\n",
        "    ax.set_xlabel(xlab, fontsize=fontsize)\n",
        "    ax.set_ylabel(ylab, fontsize=fontsize)\n",
        "    ax.spines[\"right\"].set_visible(False)\n",
        "    ax.spines[\"top\"].set_visible(False)\n",
        "    ax.set_title(title, fontsize=fontsize)\n",
        "    ax.xaxis.set_tick_params(labelsize=fontsize)\n",
        "    ax.yaxis.set_tick_params(labelsize=fontsize)\n",
        "    if yscale:\n",
        "       ax.set_yscale(yscale)\n",
        "    ax.grid()\n",
        "    text_coords = text_coords or {}\n",
        "    for i, (_, row) in enumerate(df.iterrows()):\n",
        "        coords, align_h, align_v = text_coords.get(row[\"name\"], ((0.0, 12.0), \"center\", \"baseline\"))\n",
        "        if verbose:\n",
        "            print(row[\"name\"], coords, align_h, align_v)\n",
        "        ax.annotate(\n",
        "            row[\"name\"],\n",
        "            xy=(row[xvar], row[yvar]),\n",
        "            xytext=coords,\n",
        "            horizontalalignment=align_h,\n",
        "            verticalalignment=align_v,\n",
        "            textcoords=\"offset points\",\n",
        "            fontsize=fontsize,\n",
        "        )\n",
        "    return fig, ax\n",
        "\n",
        "\n",
        "def gen_synth_inputs(n=300) -> torch.Tensor:\n",
        "    imagenet_shape = (n, 3, 224, 224)\n",
        "    return torch.rand(*imagenet_shape)"
      ],
      "metadata": {
        "id": "EWN4LU0boo6C"
      },
      "execution_count": 3,
      "outputs": []
    },
    {
      "cell_type": "code",
      "source": [
        "sns.set(style=\"ticks\")\n",
        "\n",
        "models = [\n",
        "    tvmodels.vgg11,\n",
        "    tvmodels.vgg11_bn,\n",
        "    tvmodels.resnet18,\n",
        "    tvmodels.resnet34,\n",
        "    tvmodels.densenet121,\n",
        "    tvmodels.mobilenet_v3_small,\n",
        "]\n",
        "\n",
        "pretrained_weights = [\n",
        "    tvmodels.VGG11_Weights,\n",
        "    tvmodels.VGG11_BN_Weights,\n",
        "    tvmodels.ResNet18_Weights,\n",
        "    tvmodels.ResNet34_Weights,\n",
        "    tvmodels.DenseNet121_Weights,\n",
        "    tvmodels.MobileNet_V3_Small_Weights,\n",
        "]\n",
        "\n",
        "accuracies = np.array([69.02, 70.37, 69.758, 73.314, 74.434, 67.668])\n",
        "accuracies /= 100.0"
      ],
      "metadata": {
        "id": "C8qOWLMuwUxh"
      },
      "execution_count": 4,
      "outputs": []
    },
    {
      "cell_type": "code",
      "source": [
        "set_seed(42)\n",
        "\n",
        "synth_inputs = gen_synth_inputs(n=301).to(device)\n",
        "print(f\"Synthetic inputs: {synth_inputs.shape} {synth_inputs.dtype}\")"
      ],
      "metadata": {
        "colab": {
          "base_uri": "https://localhost:8080/"
        },
        "id": "OamyeThdk9_T",
        "outputId": "7c3cb162-f472-42f9-a820-6c22df45aece"
      },
      "execution_count": 5,
      "outputs": [
        {
          "output_type": "stream",
          "name": "stdout",
          "text": [
            "Synthetic inputs: torch.Size([301, 3, 224, 224]) torch.float32\n"
          ]
        }
      ]
    },
    {
      "cell_type": "code",
      "source": [
        "# NOTE I think warmup is to be done once, however do it every time here to have\n",
        "# standardized comparisons\n",
        "models_times = [\n",
        "    eval_one_model(model_, weights, accuracy, synth_inputs, warmup_steps=warmup_steps)\n",
        "    for model_, weights, accuracy, warmup_steps in zip(\n",
        "        models, pretrained_weights, accuracies, [600] * len(models)\n",
        "    )\n",
        "]"
      ],
      "metadata": {
        "id": "P97BUOoxwI2E"
      },
      "execution_count": 6,
      "outputs": []
    },
    {
      "cell_type": "code",
      "source": [
        "models_times[0][\"inference_mean\"].__class__"
      ],
      "metadata": {
        "colab": {
          "base_uri": "https://localhost:8080/"
        },
        "id": "xevQWJiV65sZ",
        "outputId": "625ebbc0-aaaf-468e-9b3a-39c172969e3e"
      },
      "execution_count": 24,
      "outputs": [
        {
          "output_type": "execute_result",
          "data": {
            "text/plain": [
              "numpy.float64"
            ]
          },
          "metadata": {},
          "execution_count": 24
        }
      ]
    },
    {
      "cell_type": "code",
      "source": [
        "models_times_df = pd.DataFrame(models_times)\n",
        "models_times_df"
      ],
      "metadata": {
        "id": "XA2a3ZSjyaXg",
        "colab": {
          "base_uri": "https://localhost:8080/",
          "height": 238
        },
        "outputId": "836502aa-cab7-47d6-a089-15d86a8ebee7"
      },
      "execution_count": 7,
      "outputs": [
        {
          "output_type": "execute_result",
          "data": {
            "text/plain": [
              "                 name    acc@1  num_params  inference_mean  inference_std\n",
              "0               vgg11  0.69020   132863336        6.372452       0.108538\n",
              "1            vgg11_bn  0.70370   132868840        6.702205       0.194444\n",
              "2            resnet18  0.69758    11689512        4.522770       0.392343\n",
              "3            resnet34  0.73314    21797672        8.254992       0.616002\n",
              "4         densenet121  0.74434     7978856       22.387164       1.449097\n",
              "5  mobilenet_v3_small  0.67668     2542856        6.905414       0.640754"
            ],
            "text/html": [
              "\n",
              "  <div id=\"df-ab01d07b-63c1-43ac-a9af-a975827e0e20\">\n",
              "    <div class=\"colab-df-container\">\n",
              "      <div>\n",
              "<style scoped>\n",
              "    .dataframe tbody tr th:only-of-type {\n",
              "        vertical-align: middle;\n",
              "    }\n",
              "\n",
              "    .dataframe tbody tr th {\n",
              "        vertical-align: top;\n",
              "    }\n",
              "\n",
              "    .dataframe thead th {\n",
              "        text-align: right;\n",
              "    }\n",
              "</style>\n",
              "<table border=\"1\" class=\"dataframe\">\n",
              "  <thead>\n",
              "    <tr style=\"text-align: right;\">\n",
              "      <th></th>\n",
              "      <th>name</th>\n",
              "      <th>acc@1</th>\n",
              "      <th>num_params</th>\n",
              "      <th>inference_mean</th>\n",
              "      <th>inference_std</th>\n",
              "    </tr>\n",
              "  </thead>\n",
              "  <tbody>\n",
              "    <tr>\n",
              "      <th>0</th>\n",
              "      <td>vgg11</td>\n",
              "      <td>0.69020</td>\n",
              "      <td>132863336</td>\n",
              "      <td>6.372452</td>\n",
              "      <td>0.108538</td>\n",
              "    </tr>\n",
              "    <tr>\n",
              "      <th>1</th>\n",
              "      <td>vgg11_bn</td>\n",
              "      <td>0.70370</td>\n",
              "      <td>132868840</td>\n",
              "      <td>6.702205</td>\n",
              "      <td>0.194444</td>\n",
              "    </tr>\n",
              "    <tr>\n",
              "      <th>2</th>\n",
              "      <td>resnet18</td>\n",
              "      <td>0.69758</td>\n",
              "      <td>11689512</td>\n",
              "      <td>4.522770</td>\n",
              "      <td>0.392343</td>\n",
              "    </tr>\n",
              "    <tr>\n",
              "      <th>3</th>\n",
              "      <td>resnet34</td>\n",
              "      <td>0.73314</td>\n",
              "      <td>21797672</td>\n",
              "      <td>8.254992</td>\n",
              "      <td>0.616002</td>\n",
              "    </tr>\n",
              "    <tr>\n",
              "      <th>4</th>\n",
              "      <td>densenet121</td>\n",
              "      <td>0.74434</td>\n",
              "      <td>7978856</td>\n",
              "      <td>22.387164</td>\n",
              "      <td>1.449097</td>\n",
              "    </tr>\n",
              "    <tr>\n",
              "      <th>5</th>\n",
              "      <td>mobilenet_v3_small</td>\n",
              "      <td>0.67668</td>\n",
              "      <td>2542856</td>\n",
              "      <td>6.905414</td>\n",
              "      <td>0.640754</td>\n",
              "    </tr>\n",
              "  </tbody>\n",
              "</table>\n",
              "</div>\n",
              "      <button class=\"colab-df-convert\" onclick=\"convertToInteractive('df-ab01d07b-63c1-43ac-a9af-a975827e0e20')\"\n",
              "              title=\"Convert this dataframe to an interactive table.\"\n",
              "              style=\"display:none;\">\n",
              "        \n",
              "  <svg xmlns=\"http://www.w3.org/2000/svg\" height=\"24px\"viewBox=\"0 0 24 24\"\n",
              "       width=\"24px\">\n",
              "    <path d=\"M0 0h24v24H0V0z\" fill=\"none\"/>\n",
              "    <path d=\"M18.56 5.44l.94 2.06.94-2.06 2.06-.94-2.06-.94-.94-2.06-.94 2.06-2.06.94zm-11 1L8.5 8.5l.94-2.06 2.06-.94-2.06-.94L8.5 2.5l-.94 2.06-2.06.94zm10 10l.94 2.06.94-2.06 2.06-.94-2.06-.94-.94-2.06-.94 2.06-2.06.94z\"/><path d=\"M17.41 7.96l-1.37-1.37c-.4-.4-.92-.59-1.43-.59-.52 0-1.04.2-1.43.59L10.3 9.45l-7.72 7.72c-.78.78-.78 2.05 0 2.83L4 21.41c.39.39.9.59 1.41.59.51 0 1.02-.2 1.41-.59l7.78-7.78 2.81-2.81c.8-.78.8-2.07 0-2.86zM5.41 20L4 18.59l7.72-7.72 1.47 1.35L5.41 20z\"/>\n",
              "  </svg>\n",
              "      </button>\n",
              "      \n",
              "  <style>\n",
              "    .colab-df-container {\n",
              "      display:flex;\n",
              "      flex-wrap:wrap;\n",
              "      gap: 12px;\n",
              "    }\n",
              "\n",
              "    .colab-df-convert {\n",
              "      background-color: #E8F0FE;\n",
              "      border: none;\n",
              "      border-radius: 50%;\n",
              "      cursor: pointer;\n",
              "      display: none;\n",
              "      fill: #1967D2;\n",
              "      height: 32px;\n",
              "      padding: 0 0 0 0;\n",
              "      width: 32px;\n",
              "    }\n",
              "\n",
              "    .colab-df-convert:hover {\n",
              "      background-color: #E2EBFA;\n",
              "      box-shadow: 0px 1px 2px rgba(60, 64, 67, 0.3), 0px 1px 3px 1px rgba(60, 64, 67, 0.15);\n",
              "      fill: #174EA6;\n",
              "    }\n",
              "\n",
              "    [theme=dark] .colab-df-convert {\n",
              "      background-color: #3B4455;\n",
              "      fill: #D2E3FC;\n",
              "    }\n",
              "\n",
              "    [theme=dark] .colab-df-convert:hover {\n",
              "      background-color: #434B5C;\n",
              "      box-shadow: 0px 1px 3px 1px rgba(0, 0, 0, 0.15);\n",
              "      filter: drop-shadow(0px 1px 2px rgba(0, 0, 0, 0.3));\n",
              "      fill: #FFFFFF;\n",
              "    }\n",
              "  </style>\n",
              "\n",
              "      <script>\n",
              "        const buttonEl =\n",
              "          document.querySelector('#df-ab01d07b-63c1-43ac-a9af-a975827e0e20 button.colab-df-convert');\n",
              "        buttonEl.style.display =\n",
              "          google.colab.kernel.accessAllowed ? 'block' : 'none';\n",
              "\n",
              "        async function convertToInteractive(key) {\n",
              "          const element = document.querySelector('#df-ab01d07b-63c1-43ac-a9af-a975827e0e20');\n",
              "          const dataTable =\n",
              "            await google.colab.kernel.invokeFunction('convertToInteractive',\n",
              "                                                     [key], {});\n",
              "          if (!dataTable) return;\n",
              "\n",
              "          const docLinkHtml = 'Like what you see? Visit the ' +\n",
              "            '<a target=\"_blank\" href=https://colab.research.google.com/notebooks/data_table.ipynb>data table notebook</a>'\n",
              "            + ' to learn more about interactive tables.';\n",
              "          element.innerHTML = '';\n",
              "          dataTable['output_type'] = 'display_data';\n",
              "          await google.colab.output.renderOutput(dataTable, element);\n",
              "          const docLink = document.createElement('div');\n",
              "          docLink.innerHTML = docLinkHtml;\n",
              "          element.appendChild(docLink);\n",
              "        }\n",
              "      </script>\n",
              "    </div>\n",
              "  </div>\n",
              "  "
            ]
          },
          "metadata": {},
          "execution_count": 7
        }
      ]
    },
    {
      "cell_type": "code",
      "source": [
        "fig, _ = show_models_comparison(\n",
        "    models_times_df,\n",
        "    \"inference_mean\",\n",
        "    \"acc@1\",\n",
        "    \"Mean inference time (ms)\",\n",
        "    \"Top-1 accuracy\",\n",
        "    \"Accuracy vs Inference time on Imagenet-100K\",\n",
        "    text_coords={\"resnet18\": ((11.0, 12.0), \"center\", \"baseline\")},\n",
        ")\n",
        "plt.tight_layout()"
      ],
      "metadata": {
        "colab": {
          "base_uri": "https://localhost:8080/",
          "height": 725
        },
        "id": "uDWDuzQ51Vss",
        "outputId": "9cdc4c92-f0d7-463d-b782-b46a73f39b9b"
      },
      "execution_count": 8,
      "outputs": [
        {
          "output_type": "display_data",
          "data": {
            "text/plain": [
              "<Figure size 720x720 with 1 Axes>"
            ],
            "image/png": "[encoded data removed]"
          },
          "metadata": {}
        }
      ]
    },
    {
      "cell_type": "code",
      "source": [
        "fname=\"accuracy_infer_speed.png\"\n",
        "fig.savefig(fname)\n",
        "files.download(fname) "
      ],
      "metadata": {
        "colab": {
          "base_uri": "https://localhost:8080/",
          "height": 17
        },
        "id": "5RL2mByXvc2v",
        "outputId": "f86a27a6-67fb-41d9-85dc-4f732dcaf5d4"
      },
      "execution_count": 9,
      "outputs": [
        {
          "output_type": "display_data",
          "data": {
            "text/plain": [
              "<IPython.core.display.Javascript object>"
            ],
            "application/javascript": [
              "\n",
              "    async function download(id, filename, size) {\n",
              "      if (!google.colab.kernel.accessAllowed) {\n",
              "        return;\n",
              "      }\n",
              "      const div = document.createElement('div');\n",
              "      const label = document.createElement('label');\n",
              "      label.textContent = `Downloading \"${filename}\": `;\n",
              "      div.appendChild(label);\n",
              "      const progress = document.createElement('progress');\n",
              "      progress.max = size;\n",
              "      div.appendChild(progress);\n",
              "      document.body.appendChild(div);\n",
              "\n",
              "      const buffers = [];\n",
              "      let downloaded = 0;\n",
              "\n",
              "      const channel = await google.colab.kernel.comms.open(id);\n",
              "      // Send a message to notify the kernel that we're ready.\n",
              "      channel.send({})\n",
              "\n",
              "      for await (const message of channel.messages) {\n",
              "        // Send a message to notify the kernel that we're ready.\n",
              "        channel.send({})\n",
              "        if (message.buffers) {\n",
              "          for (const buffer of message.buffers) {\n",
              "            buffers.push(buffer);\n",
              "            downloaded += buffer.byteLength;\n",
              "            progress.value = downloaded;\n",
              "          }\n",
              "        }\n",
              "      }\n",
              "      const blob = new Blob(buffers, {type: 'application/binary'});\n",
              "      const a = document.createElement('a');\n",
              "      a.href = window.URL.createObjectURL(blob);\n",
              "      a.download = filename;\n",
              "      div.appendChild(a);\n",
              "      a.click();\n",
              "      div.remove();\n",
              "    }\n",
              "  "
            ]
          },
          "metadata": {}
        },
        {
          "output_type": "display_data",
          "data": {
            "text/plain": [
              "<IPython.core.display.Javascript object>"
            ],
            "application/javascript": [
              "download(\"download_5f310eaa-ee30-41f6-bcd9-458a7e63a792\", \"accuracy_infer_speed.png\", 38308)"
            ]
          },
          "metadata": {}
        }
      ]
    },
    {
      "cell_type": "code",
      "source": [
        "fig, _ = show_models_comparison(\n",
        "    models_times_df,\n",
        "    \"inference_mean\",\n",
        "    \"num_params\",\n",
        "    \"Mean inference time (ms)\",\n",
        "    \"Number of parameters (log)\",\n",
        "    \"Number of model parameters vs Inference time on Imagenet-100K\",\n",
        "    text_coords={\n",
        "        \"resnet18\": ((11.0, 13.0), \"center\", \"baseline\"),\n",
        "        \"vgg11\": ((0.0, 9.0), \"right\", \"baseline\"),\n",
        "        \"vgg11_bn\": ((0.0, -16.0), \"left\", \"baseline\"),\n",
        "    },\n",
        "    yscale=\"log\"\n",
        ")\n",
        "plt.tight_layout()"
      ],
      "metadata": {
        "colab": {
          "base_uri": "https://localhost:8080/",
          "height": 725
        },
        "id": "5uLVVkN6zize",
        "outputId": "f625d189-2629-46f7-8cac-9e4562739010"
      },
      "execution_count": 10,
      "outputs": [
        {
          "output_type": "display_data",
          "data": {
            "text/plain": [
              "<Figure size 720x720 with 1 Axes>"
            ],
            "image/png": "[encoded data removed]"
          },
          "metadata": {}
        }
      ]
    },
    {
      "cell_type": "code",
      "source": [
        "fname=\"numparams_infer_speed.png\"\n",
        "fig.savefig(fname)\n",
        "files.download(fname) "
      ],
      "metadata": {
        "colab": {
          "base_uri": "https://localhost:8080/",
          "height": 17
        },
        "outputId": "3c51611f-12dd-4650-e722-d0e2964cd884",
        "id": "DVyDS9b2vtsM"
      },
      "execution_count": 11,
      "outputs": [
        {
          "output_type": "display_data",
          "data": {
            "text/plain": [
              "<IPython.core.display.Javascript object>"
            ],
            "application/javascript": [
              "\n",
              "    async function download(id, filename, size) {\n",
              "      if (!google.colab.kernel.accessAllowed) {\n",
              "        return;\n",
              "      }\n",
              "      const div = document.createElement('div');\n",
              "      const label = document.createElement('label');\n",
              "      label.textContent = `Downloading \"${filename}\": `;\n",
              "      div.appendChild(label);\n",
              "      const progress = document.createElement('progress');\n",
              "      progress.max = size;\n",
              "      div.appendChild(progress);\n",
              "      document.body.appendChild(div);\n",
              "\n",
              "      const buffers = [];\n",
              "      let downloaded = 0;\n",
              "\n",
              "      const channel = await google.colab.kernel.comms.open(id);\n",
              "      // Send a message to notify the kernel that we're ready.\n",
              "      channel.send({})\n",
              "\n",
              "      for await (const message of channel.messages) {\n",
              "        // Send a message to notify the kernel that we're ready.\n",
              "        channel.send({})\n",
              "        if (message.buffers) {\n",
              "          for (const buffer of message.buffers) {\n",
              "            buffers.push(buffer);\n",
              "            downloaded += buffer.byteLength;\n",
              "            progress.value = downloaded;\n",
              "          }\n",
              "        }\n",
              "      }\n",
              "      const blob = new Blob(buffers, {type: 'application/binary'});\n",
              "      const a = document.createElement('a');\n",
              "      a.href = window.URL.createObjectURL(blob);\n",
              "      a.download = filename;\n",
              "      div.appendChild(a);\n",
              "      a.click();\n",
              "      div.remove();\n",
              "    }\n",
              "  "
            ]
          },
          "metadata": {}
        },
        {
          "output_type": "display_data",
          "data": {
            "text/plain": [
              "<IPython.core.display.Javascript object>"
            ],
            "application/javascript": [
              "download(\"download_b26a600d-3bd7-49cb-bdd1-e80b338fced6\", \"numparams_infer_speed.png\", 37552)"
            ]
          },
          "metadata": {}
        }
      ]
    },
    {
      "cell_type": "code",
      "source": [
        "models_times_grad = [\n",
        "    eval_one_model(\n",
        "        model_, weights, accuracy, synth_inputs, warmup_steps=warmup_steps, use_grad=True\n",
        "    )\n",
        "    for model_, weights, accuracy, warmup_steps in zip(\n",
        "        models, pretrained_weights, accuracies, [600] * len(models)\n",
        "    )\n",
        "]"
      ],
      "metadata": {
        "id": "2iYLsI8HVnVr"
      },
      "execution_count": 12,
      "outputs": []
    },
    {
      "cell_type": "code",
      "source": [
        "times_grad_df = pd.DataFrame(models_times_grad)\n",
        "times_grad_df[\"grad\"] = True\n",
        "times_grad_df"
      ],
      "metadata": {
        "colab": {
          "base_uri": "https://localhost:8080/",
          "height": 238
        },
        "id": "dCRm-zqiWWXE",
        "outputId": "4e7a118a-826f-4e70-a9d6-861a489d42f7"
      },
      "execution_count": 13,
      "outputs": [
        {
          "output_type": "execute_result",
          "data": {
            "text/plain": [
              "                 name    acc@1  num_params  inference_mean  inference_std  \\\n",
              "0               vgg11  0.69020   132863336        6.438501       0.100664   \n",
              "1            vgg11_bn  0.70370   132868840        6.743213       0.101785   \n",
              "2            resnet18  0.69758    11689512        4.719555       0.383703   \n",
              "3            resnet34  0.73314    21797672        8.616279       0.702474   \n",
              "4         densenet121  0.74434     7978856       25.144130       1.404679   \n",
              "5  mobilenet_v3_small  0.67668     2542856        8.066881       0.702108   \n",
              "\n",
              "   grad  \n",
              "0  True  \n",
              "1  True  \n",
              "2  True  \n",
              "3  True  \n",
              "4  True  \n",
              "5  True  "
            ],
            "text/html": [
              "\n",
              "  <div id=\"df-15e7c686-0689-4c26-9dd4-fe152560c624\">\n",
              "    <div class=\"colab-df-container\">\n",
              "      <div>\n",
              "<style scoped>\n",
              "    .dataframe tbody tr th:only-of-type {\n",
              "        vertical-align: middle;\n",
              "    }\n",
              "\n",
              "    .dataframe tbody tr th {\n",
              "        vertical-align: top;\n",
              "    }\n",
              "\n",
              "    .dataframe thead th {\n",
              "        text-align: right;\n",
              "    }\n",
              "</style>\n",
              "<table border=\"1\" class=\"dataframe\">\n",
              "  <thead>\n",
              "    <tr style=\"text-align: right;\">\n",
              "      <th></th>\n",
              "      <th>name</th>\n",
              "      <th>acc@1</th>\n",
              "      <th>num_params</th>\n",
              "      <th>inference_mean</th>\n",
              "      <th>inference_std</th>\n",
              "      <th>grad</th>\n",
              "    </tr>\n",
              "  </thead>\n",
              "  <tbody>\n",
              "    <tr>\n",
              "      <th>0</th>\n",
              "      <td>vgg11</td>\n",
              "      <td>0.69020</td>\n",
              "      <td>132863336</td>\n",
              "      <td>6.438501</td>\n",
              "      <td>0.100664</td>\n",
              "      <td>True</td>\n",
              "    </tr>\n",
              "    <tr>\n",
              "      <th>1</th>\n",
              "      <td>vgg11_bn</td>\n",
              "      <td>0.70370</td>\n",
              "      <td>132868840</td>\n",
              "      <td>6.743213</td>\n",
              "      <td>0.101785</td>\n",
              "      <td>True</td>\n",
              "    </tr>\n",
              "    <tr>\n",
              "      <th>2</th>\n",
              "      <td>resnet18</td>\n",
              "      <td>0.69758</td>\n",
              "      <td>11689512</td>\n",
              "      <td>4.719555</td>\n",
              "      <td>0.383703</td>\n",
              "      <td>True</td>\n",
              "    </tr>\n",
              "    <tr>\n",
              "      <th>3</th>\n",
              "      <td>resnet34</td>\n",
              "      <td>0.73314</td>\n",
              "      <td>21797672</td>\n",
              "      <td>8.616279</td>\n",
              "      <td>0.702474</td>\n",
              "      <td>True</td>\n",
              "    </tr>\n",
              "    <tr>\n",
              "      <th>4</th>\n",
              "      <td>densenet121</td>\n",
              "      <td>0.74434</td>\n",
              "      <td>7978856</td>\n",
              "      <td>25.144130</td>\n",
              "      <td>1.404679</td>\n",
              "      <td>True</td>\n",
              "    </tr>\n",
              "    <tr>\n",
              "      <th>5</th>\n",
              "      <td>mobilenet_v3_small</td>\n",
              "      <td>0.67668</td>\n",
              "      <td>2542856</td>\n",
              "      <td>8.066881</td>\n",
              "      <td>0.702108</td>\n",
              "      <td>True</td>\n",
              "    </tr>\n",
              "  </tbody>\n",
              "</table>\n",
              "</div>\n",
              "      <button class=\"colab-df-convert\" onclick=\"convertToInteractive('df-15e7c686-0689-4c26-9dd4-fe152560c624')\"\n",
              "              title=\"Convert this dataframe to an interactive table.\"\n",
              "              style=\"display:none;\">\n",
              "        \n",
              "  <svg xmlns=\"http://www.w3.org/2000/svg\" height=\"24px\"viewBox=\"0 0 24 24\"\n",
              "       width=\"24px\">\n",
              "    <path d=\"M0 0h24v24H0V0z\" fill=\"none\"/>\n",
              "    <path d=\"M18.56 5.44l.94 2.06.94-2.06 2.06-.94-2.06-.94-.94-2.06-.94 2.06-2.06.94zm-11 1L8.5 8.5l.94-2.06 2.06-.94-2.06-.94L8.5 2.5l-.94 2.06-2.06.94zm10 10l.94 2.06.94-2.06 2.06-.94-2.06-.94-.94-2.06-.94 2.06-2.06.94z\"/><path d=\"M17.41 7.96l-1.37-1.37c-.4-.4-.92-.59-1.43-.59-.52 0-1.04.2-1.43.59L10.3 9.45l-7.72 7.72c-.78.78-.78 2.05 0 2.83L4 21.41c.39.39.9.59 1.41.59.51 0 1.02-.2 1.41-.59l7.78-7.78 2.81-2.81c.8-.78.8-2.07 0-2.86zM5.41 20L4 18.59l7.72-7.72 1.47 1.35L5.41 20z\"/>\n",
              "  </svg>\n",
              "      </button>\n",
              "      \n",
              "  <style>\n",
              "    .colab-df-container {\n",
              "      display:flex;\n",
              "      flex-wrap:wrap;\n",
              "      gap: 12px;\n",
              "    }\n",
              "\n",
              "    .colab-df-convert {\n",
              "      background-color: #E8F0FE;\n",
              "      border: none;\n",
              "      border-radius: 50%;\n",
              "      cursor: pointer;\n",
              "      display: none;\n",
              "      fill: #1967D2;\n",
              "      height: 32px;\n",
              "      padding: 0 0 0 0;\n",
              "      width: 32px;\n",
              "    }\n",
              "\n",
              "    .colab-df-convert:hover {\n",
              "      background-color: #E2EBFA;\n",
              "      box-shadow: 0px 1px 2px rgba(60, 64, 67, 0.3), 0px 1px 3px 1px rgba(60, 64, 67, 0.15);\n",
              "      fill: #174EA6;\n",
              "    }\n",
              "\n",
              "    [theme=dark] .colab-df-convert {\n",
              "      background-color: #3B4455;\n",
              "      fill: #D2E3FC;\n",
              "    }\n",
              "\n",
              "    [theme=dark] .colab-df-convert:hover {\n",
              "      background-color: #434B5C;\n",
              "      box-shadow: 0px 1px 3px 1px rgba(0, 0, 0, 0.15);\n",
              "      filter: drop-shadow(0px 1px 2px rgba(0, 0, 0, 0.3));\n",
              "      fill: #FFFFFF;\n",
              "    }\n",
              "  </style>\n",
              "\n",
              "      <script>\n",
              "        const buttonEl =\n",
              "          document.querySelector('#df-15e7c686-0689-4c26-9dd4-fe152560c624 button.colab-df-convert');\n",
              "        buttonEl.style.display =\n",
              "          google.colab.kernel.accessAllowed ? 'block' : 'none';\n",
              "\n",
              "        async function convertToInteractive(key) {\n",
              "          const element = document.querySelector('#df-15e7c686-0689-4c26-9dd4-fe152560c624');\n",
              "          const dataTable =\n",
              "            await google.colab.kernel.invokeFunction('convertToInteractive',\n",
              "                                                     [key], {});\n",
              "          if (!dataTable) return;\n",
              "\n",
              "          const docLinkHtml = 'Like what you see? Visit the ' +\n",
              "            '<a target=\"_blank\" href=https://colab.research.google.com/notebooks/data_table.ipynb>data table notebook</a>'\n",
              "            + ' to learn more about interactive tables.';\n",
              "          element.innerHTML = '';\n",
              "          dataTable['output_type'] = 'display_data';\n",
              "          await google.colab.output.renderOutput(dataTable, element);\n",
              "          const docLink = document.createElement('div');\n",
              "          docLink.innerHTML = docLinkHtml;\n",
              "          element.appendChild(docLink);\n",
              "        }\n",
              "      </script>\n",
              "    </div>\n",
              "  </div>\n",
              "  "
            ]
          },
          "metadata": {},
          "execution_count": 13
        }
      ]
    },
    {
      "cell_type": "code",
      "source": [
        "models_times_df[\"grad\"] = False\n",
        "merged_df = pd.concat([models_times_df, times_grad_df])"
      ],
      "metadata": {
        "id": "oOvQh9gLroCI"
      },
      "execution_count": 14,
      "outputs": []
    },
    {
      "cell_type": "code",
      "source": [
        "figsize = (10, 10)\n",
        "fontsize = 15\n",
        "\n",
        "fig, ax = plt.subplots(figsize=figsize)\n",
        "sns.barplot(data=merged_df, x=\"name\", y=\"inference_mean\", hue=\"grad\", ax=ax)\n",
        "ax.set_xlabel(\"Model\", fontsize=fontsize)\n",
        "ax.set_ylabel(\"Mean inference time (ms)\", fontsize=fontsize)\n",
        "ax.set_title(\"Models mean inference time with and without torch.no_grad()\", fontsize=fontsize)\n",
        "ax.xaxis.set_tick_params(labelsize=fontsize)\n",
        "ax.yaxis.set_tick_params(labelsize=fontsize)\n",
        "ax.spines[\"right\"].set_visible(False)\n",
        "ax.spines[\"top\"].set_visible(False)\n",
        "ax.set_xticklabels(ax.get_xticklabels(), rotation=30)\n",
        "plt.setp(ax.get_legend().get_title(), fontsize=str(fontsize)) \n",
        "plt.setp(ax.get_legend().get_texts(), fontsize='13') \n",
        "ax.grid()\n",
        "plt.tight_layout()"
      ],
      "metadata": {
        "colab": {
          "base_uri": "https://localhost:8080/",
          "height": 725
        },
        "id": "zIE-kIG7sm98",
        "outputId": "90c99624-c38c-419b-f828-1d10dbb97d42"
      },
      "execution_count": 15,
      "outputs": [
        {
          "output_type": "display_data",
          "data": {
            "text/plain": [
              "<Figure size 720x720 with 1 Axes>"
            ],
            "image/png": "[encoded data removed]"
          },
          "metadata": {}
        }
      ]
    },
    {
      "cell_type": "code",
      "source": [
        "fname=\"infer_speed_grad_comparison.png\"\n",
        "fig.savefig(fname)\n",
        "files.download(fname) "
      ],
      "metadata": {
        "colab": {
          "base_uri": "https://localhost:8080/",
          "height": 17
        },
        "id": "o5qSfFG8Zf1_",
        "outputId": "47aed4c6-5270-4b5f-be2b-e05700ae07f8"
      },
      "execution_count": 16,
      "outputs": [
        {
          "output_type": "display_data",
          "data": {
            "text/plain": [
              "<IPython.core.display.Javascript object>"
            ],
            "application/javascript": [
              "\n",
              "    async function download(id, filename, size) {\n",
              "      if (!google.colab.kernel.accessAllowed) {\n",
              "        return;\n",
              "      }\n",
              "      const div = document.createElement('div');\n",
              "      const label = document.createElement('label');\n",
              "      label.textContent = `Downloading \"${filename}\": `;\n",
              "      div.appendChild(label);\n",
              "      const progress = document.createElement('progress');\n",
              "      progress.max = size;\n",
              "      div.appendChild(progress);\n",
              "      document.body.appendChild(div);\n",
              "\n",
              "      const buffers = [];\n",
              "      let downloaded = 0;\n",
              "\n",
              "      const channel = await google.colab.kernel.comms.open(id);\n",
              "      // Send a message to notify the kernel that we're ready.\n",
              "      channel.send({})\n",
              "\n",
              "      for await (const message of channel.messages) {\n",
              "        // Send a message to notify the kernel that we're ready.\n",
              "        channel.send({})\n",
              "        if (message.buffers) {\n",
              "          for (const buffer of message.buffers) {\n",
              "            buffers.push(buffer);\n",
              "            downloaded += buffer.byteLength;\n",
              "            progress.value = downloaded;\n",
              "          }\n",
              "        }\n",
              "      }\n",
              "      const blob = new Blob(buffers, {type: 'application/binary'});\n",
              "      const a = document.createElement('a');\n",
              "      a.href = window.URL.createObjectURL(blob);\n",
              "      a.download = filename;\n",
              "      div.appendChild(a);\n",
              "      a.click();\n",
              "      div.remove();\n",
              "    }\n",
              "  "
            ]
          },
          "metadata": {}
        },
        {
          "output_type": "display_data",
          "data": {
            "text/plain": [
              "<IPython.core.display.Javascript object>"
            ],
            "application/javascript": [
              "download(\"download_e374d147-d359-4e06-a5bd-e6f01b5f8ed3\", \"infer_speed_grad_comparison.png\", 39639)"
            ]
          },
          "metadata": {}
        }
      ]
    }
  ]
}