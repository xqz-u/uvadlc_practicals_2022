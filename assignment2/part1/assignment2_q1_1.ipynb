{
  "nbformat": 4,
  "nbformat_minor": 0,
  "metadata": {
    "colab": {
      "provenance": []
    },
    "kernelspec": {
      "name": "python3",
      "display_name": "Python 3"
    },
    "language_info": {
      "name": "python"
    },
    "accelerator": "GPU",
    "gpuClass": "standard"
  },
  "cells": [
    {
      "cell_type": "code",
      "execution_count": 203,
      "metadata": {
        "id": "bcB_Hu7ucz00"
      },
      "outputs": [],
      "source": [
        "import numpy as np\n",
        "import torch\n",
        "from torch import nn\n",
        "from torchvision import models as tvmodels\n",
        "import pandas as pd\n",
        "import seaborn as sns\n",
        "from matplotlib import pyplot as plt\n",
        "from typing import Dict, Tuple\n",
        "from google.colab import files"
      ]
    },
    {
      "cell_type": "code",
      "source": [
        "device = \"cuda\" if torch.cuda.is_available() else \"cpu\"\n",
        "print(f\"Device: {device}\")"
      ],
      "metadata": {
        "colab": {
          "base_uri": "https://localhost:8080/"
        },
        "id": "UfO9_2Jb-ARz",
        "outputId": "7ed5787a-4314-4845-de9b-83188e9945bf"
      },
      "execution_count": 2,
      "outputs": [
        {
          "output_type": "stream",
          "name": "stdout",
          "text": [
            "Device: cuda\n"
          ]
        }
      ]
    },
    {
      "cell_type": "code",
      "source": [
        "def set_seed(seed):\n",
        "    \"\"\"\n",
        "    Function for setting the seed for reproducibility.\n",
        "    \"\"\"\n",
        "    np.random.seed(seed)\n",
        "    torch.manual_seed(seed)\n",
        "    if torch.cuda.is_available():\n",
        "        torch.cuda.manual_seed(seed)\n",
        "        torch.cuda.manual_seed_all(seed)\n",
        "    torch.backends.cudnn.deterministic = True\n",
        "    torch.backends.cudnn.benchmark = False\n",
        "\n",
        "\n",
        "def warmup(model, dummy_in, warmup_steps=600, **_):\n",
        "    for _ in range(warmup_steps):\n",
        "        model(dummy_in)\n",
        "\n",
        "\n",
        "def eval_model(model, dummy_input, preprocess_fn, use_grad=False, repetitions=300, **kwargs):\n",
        "    model.eval()\n",
        "    dummy_input = preprocess_fn(dummy_input)\n",
        "    warmup(model, dummy_input, **kwargs)\n",
        "\n",
        "    start_event = torch.cuda.Event(enable_timing=True)\n",
        "    end_event = torch.cuda.Event(enable_timing=True)\n",
        "    records = np.zeros(repetitions)\n",
        "\n",
        "    with torch.set_grad_enabled(use_grad):\n",
        "        for rep in range(repetitions):\n",
        "            start_event.record()\n",
        "            model(dummy_input)\n",
        "            end_event.record()\n",
        "            torch.cuda.synchronize()\n",
        "            records[rep] = start_event.elapsed_time(end_event)\n",
        "            \n",
        "    return records\n",
        "\n",
        "\n",
        "def num_params(model):\n",
        "    return sum(int(np.prod(p.shape)) for p in model.parameters())\n",
        "\n",
        "\n",
        "def eval_one_model(model_builder, weights, accuracy, dummy_input, **kwargs):\n",
        "    weights = weights.DEFAULT\n",
        "    model = model_builder(weights=weights).to(device)\n",
        "    times = eval_model(model, dummy_input, weights.transforms(), **kwargs)\n",
        "    return {\n",
        "        \"name\": model_builder.__name__,\n",
        "        \"acc@1\": accuracy,\n",
        "        \"num_params\": num_params(model),\n",
        "        \"inference_mean\": times.mean(),\n",
        "        \"inference_std\": times.std(),\n",
        "    }\n",
        "\n",
        "\n",
        "def show_models_comparison(\n",
        "    df: pd.DataFrame,\n",
        "    xvar: str,\n",
        "    yvar: str,\n",
        "    xlab: str,\n",
        "    ylab: str,\n",
        "    title: str,\n",
        "    text_coords: Dict[str, Tuple[Tuple[float, float], str, str]] = None,\n",
        "    yscale: str=None,\n",
        "    fontsize=15,\n",
        "    figsize=(10, 10),\n",
        "    verbose=False\n",
        ") -> Tuple[plt.Figure, plt.Axes]:\n",
        "    fig, ax = plt.subplots(figsize=figsize)\n",
        "    sns.scatterplot(data=df, x=xvar, y=yvar, hue=\"name\", ax=ax, legend=False, s=70)\n",
        "    ax.set_xlabel(xlab, fontsize=fontsize)\n",
        "    ax.set_ylabel(ylab, fontsize=fontsize)\n",
        "    ax.spines[\"right\"].set_visible(False)\n",
        "    ax.spines[\"top\"].set_visible(False)\n",
        "    ax.set_title(title, fontsize=fontsize)\n",
        "    ax.xaxis.set_tick_params(labelsize=fontsize)\n",
        "    ax.yaxis.set_tick_params(labelsize=fontsize)\n",
        "    if yscale:\n",
        "       ax.set_yscale(yscale)\n",
        "    ax.grid()\n",
        "    text_coords = text_coords or {}\n",
        "    for i, (_, row) in enumerate(df.iterrows()):\n",
        "        coords, align_h, align_v = text_coords.get(row[\"name\"], ((0.0, 12.0), \"center\", \"baseline\"))\n",
        "        if verbose:\n",
        "            print(row[\"name\"], coords, align_h, align_v)\n",
        "        ax.annotate(\n",
        "            row[\"name\"],\n",
        "            xy=(row[xvar], row[yvar]),\n",
        "            xytext=coords,\n",
        "            horizontalalignment=align_h,\n",
        "            verticalalignment=align_v,\n",
        "            textcoords=\"offset points\",\n",
        "            fontsize=fontsize,\n",
        "        )\n",
        "    return fig, ax"
      ],
      "metadata": {
        "id": "EWN4LU0boo6C"
      },
      "execution_count": 226,
      "outputs": []
    },
    {
      "cell_type": "code",
      "source": [
        "sns.set(style=\"ticks\")\n",
        "\n",
        "models = [\n",
        "    tvmodels.vgg11,\n",
        "    tvmodels.vgg11_bn,\n",
        "    tvmodels.resnet18,\n",
        "    tvmodels.resnet34,\n",
        "    tvmodels.densenet121,\n",
        "    tvmodels.mobilenet_v3_small,\n",
        "]\n",
        "\n",
        "pretrained_weights = [\n",
        "    tvmodels.VGG11_Weights,\n",
        "    tvmodels.VGG11_BN_Weights,\n",
        "    tvmodels.ResNet18_Weights,\n",
        "    tvmodels.ResNet34_Weights,\n",
        "    tvmodels.DenseNet121_Weights,\n",
        "    tvmodels.MobileNet_V3_Small_Weights,\n",
        "]\n",
        "\n",
        "accuracies = np.array([69.02, 70.37, 69.758, 73.314, 74.434, 67.668])\n",
        "accuracies /= 100.0"
      ],
      "metadata": {
        "id": "C8qOWLMuwUxh"
      },
      "execution_count": 197,
      "outputs": []
    },
    {
      "cell_type": "code",
      "source": [
        "set_seed(42)\n",
        "\n",
        "imagenet_shape = (1, 3, 224, 224)\n",
        "dummy_input = torch.rand(*imagenet_shape).to(device)\n",
        "print(f\"Dummy input: {dummy_input.shape} {dummy_input.dtype}\")"
      ],
      "metadata": {
        "colab": {
          "base_uri": "https://localhost:8080/"
        },
        "id": "OamyeThdk9_T",
        "outputId": "f19271e7-7357-45c1-9146-ce1a532fa5a2"
      },
      "execution_count": 5,
      "outputs": [
        {
          "output_type": "stream",
          "name": "stdout",
          "text": [
            "Dummy input: torch.Size([1, 3, 224, 224]) torch.float32\n"
          ]
        }
      ]
    },
    {
      "cell_type": "code",
      "source": [
        "# NOTE warmup done only for the first model so far!!!\n",
        "models_times = [\n",
        "    eval_one_model(model_, weights, accuracy, dummy_input, warmup_steps=warmup_steps)\n",
        "    for model_, weights, accuracy, warmup_steps in zip(\n",
        "        models, pretrained_weights, accuracies, [600] + [0] * (len(models) - 1)\n",
        "    )\n",
        "]"
      ],
      "metadata": {
        "id": "P97BUOoxwI2E"
      },
      "execution_count": 198,
      "outputs": []
    },
    {
      "cell_type": "code",
      "source": [
        "models_times_df = pd.DataFrame(models_times)\n",
        "models_times_df"
      ],
      "metadata": {
        "id": "XA2a3ZSjyaXg",
        "colab": {
          "base_uri": "https://localhost:8080/",
          "height": 238
        },
        "outputId": "19727cd9-b18a-4918-a164-a7f06a6f0f54"
      },
      "execution_count": 199,
      "outputs": [
        {
          "output_type": "execute_result",
          "data": {
            "text/plain": [
              "                 name    acc@1  num_params  inference_mean  inference_std\n",
              "0               vgg11  0.69020   132863336        6.492625       0.092458\n",
              "1            vgg11_bn  0.70370   132868840        6.743275       0.184433\n",
              "2            resnet18  0.69758    11689512        4.516007       0.612753\n",
              "3            resnet34  0.73314    21797672        8.319322       0.818604\n",
              "4         densenet121  0.74434     7978856       22.311878       1.531233\n",
              "5  mobilenet_v3_small  0.67668     2542856        7.055905       0.848203"
            ],
            "text/html": [
              "\n",
              "  <div id=\"df-92ecb881-7e3b-492b-a011-b8d154830af6\">\n",
              "    <div class=\"colab-df-container\">\n",
              "      <div>\n",
              "<style scoped>\n",
              "    .dataframe tbody tr th:only-of-type {\n",
              "        vertical-align: middle;\n",
              "    }\n",
              "\n",
              "    .dataframe tbody tr th {\n",
              "        vertical-align: top;\n",
              "    }\n",
              "\n",
              "    .dataframe thead th {\n",
              "        text-align: right;\n",
              "    }\n",
              "</style>\n",
              "<table border=\"1\" class=\"dataframe\">\n",
              "  <thead>\n",
              "    <tr style=\"text-align: right;\">\n",
              "      <th></th>\n",
              "      <th>name</th>\n",
              "      <th>acc@1</th>\n",
              "      <th>num_params</th>\n",
              "      <th>inference_mean</th>\n",
              "      <th>inference_std</th>\n",
              "    </tr>\n",
              "  </thead>\n",
              "  <tbody>\n",
              "    <tr>\n",
              "      <th>0</th>\n",
              "      <td>vgg11</td>\n",
              "      <td>0.69020</td>\n",
              "      <td>132863336</td>\n",
              "      <td>6.492625</td>\n",
              "      <td>0.092458</td>\n",
              "    </tr>\n",
              "    <tr>\n",
              "      <th>1</th>\n",
              "      <td>vgg11_bn</td>\n",
              "      <td>0.70370</td>\n",
              "      <td>132868840</td>\n",
              "      <td>6.743275</td>\n",
              "      <td>0.184433</td>\n",
              "    </tr>\n",
              "    <tr>\n",
              "      <th>2</th>\n",
              "      <td>resnet18</td>\n",
              "      <td>0.69758</td>\n",
              "      <td>11689512</td>\n",
              "      <td>4.516007</td>\n",
              "      <td>0.612753</td>\n",
              "    </tr>\n",
              "    <tr>\n",
              "      <th>3</th>\n",
              "      <td>resnet34</td>\n",
              "      <td>0.73314</td>\n",
              "      <td>21797672</td>\n",
              "      <td>8.319322</td>\n",
              "      <td>0.818604</td>\n",
              "    </tr>\n",
              "    <tr>\n",
              "      <th>4</th>\n",
              "      <td>densenet121</td>\n",
              "      <td>0.74434</td>\n",
              "      <td>7978856</td>\n",
              "      <td>22.311878</td>\n",
              "      <td>1.531233</td>\n",
              "    </tr>\n",
              "    <tr>\n",
              "      <th>5</th>\n",
              "      <td>mobilenet_v3_small</td>\n",
              "      <td>0.67668</td>\n",
              "      <td>2542856</td>\n",
              "      <td>7.055905</td>\n",
              "      <td>0.848203</td>\n",
              "    </tr>\n",
              "  </tbody>\n",
              "</table>\n",
              "</div>\n",
              "      <button class=\"colab-df-convert\" onclick=\"convertToInteractive('df-92ecb881-7e3b-492b-a011-b8d154830af6')\"\n",
              "              title=\"Convert this dataframe to an interactive table.\"\n",
              "              style=\"display:none;\">\n",
              "        \n",
              "  <svg xmlns=\"http://www.w3.org/2000/svg\" height=\"24px\"viewBox=\"0 0 24 24\"\n",
              "       width=\"24px\">\n",
              "    <path d=\"M0 0h24v24H0V0z\" fill=\"none\"/>\n",
              "    <path d=\"M18.56 5.44l.94 2.06.94-2.06 2.06-.94-2.06-.94-.94-2.06-.94 2.06-2.06.94zm-11 1L8.5 8.5l.94-2.06 2.06-.94-2.06-.94L8.5 2.5l-.94 2.06-2.06.94zm10 10l.94 2.06.94-2.06 2.06-.94-2.06-.94-.94-2.06-.94 2.06-2.06.94z\"/><path d=\"M17.41 7.96l-1.37-1.37c-.4-.4-.92-.59-1.43-.59-.52 0-1.04.2-1.43.59L10.3 9.45l-7.72 7.72c-.78.78-.78 2.05 0 2.83L4 21.41c.39.39.9.59 1.41.59.51 0 1.02-.2 1.41-.59l7.78-7.78 2.81-2.81c.8-.78.8-2.07 0-2.86zM5.41 20L4 18.59l7.72-7.72 1.47 1.35L5.41 20z\"/>\n",
              "  </svg>\n",
              "      </button>\n",
              "      \n",
              "  <style>\n",
              "    .colab-df-container {\n",
              "      display:flex;\n",
              "      flex-wrap:wrap;\n",
              "      gap: 12px;\n",
              "    }\n",
              "\n",
              "    .colab-df-convert {\n",
              "      background-color: #E8F0FE;\n",
              "      border: none;\n",
              "      border-radius: 50%;\n",
              "      cursor: pointer;\n",
              "      display: none;\n",
              "      fill: #1967D2;\n",
              "      height: 32px;\n",
              "      padding: 0 0 0 0;\n",
              "      width: 32px;\n",
              "    }\n",
              "\n",
              "    .colab-df-convert:hover {\n",
              "      background-color: #E2EBFA;\n",
              "      box-shadow: 0px 1px 2px rgba(60, 64, 67, 0.3), 0px 1px 3px 1px rgba(60, 64, 67, 0.15);\n",
              "      fill: #174EA6;\n",
              "    }\n",
              "\n",
              "    [theme=dark] .colab-df-convert {\n",
              "      background-color: #3B4455;\n",
              "      fill: #D2E3FC;\n",
              "    }\n",
              "\n",
              "    [theme=dark] .colab-df-convert:hover {\n",
              "      background-color: #434B5C;\n",
              "      box-shadow: 0px 1px 3px 1px rgba(0, 0, 0, 0.15);\n",
              "      filter: drop-shadow(0px 1px 2px rgba(0, 0, 0, 0.3));\n",
              "      fill: #FFFFFF;\n",
              "    }\n",
              "  </style>\n",
              "\n",
              "      <script>\n",
              "        const buttonEl =\n",
              "          document.querySelector('#df-92ecb881-7e3b-492b-a011-b8d154830af6 button.colab-df-convert');\n",
              "        buttonEl.style.display =\n",
              "          google.colab.kernel.accessAllowed ? 'block' : 'none';\n",
              "\n",
              "        async function convertToInteractive(key) {\n",
              "          const element = document.querySelector('#df-92ecb881-7e3b-492b-a011-b8d154830af6');\n",
              "          const dataTable =\n",
              "            await google.colab.kernel.invokeFunction('convertToInteractive',\n",
              "                                                     [key], {});\n",
              "          if (!dataTable) return;\n",
              "\n",
              "          const docLinkHtml = 'Like what you see? Visit the ' +\n",
              "            '<a target=\"_blank\" href=https://colab.research.google.com/notebooks/data_table.ipynb>data table notebook</a>'\n",
              "            + ' to learn more about interactive tables.';\n",
              "          element.innerHTML = '';\n",
              "          dataTable['output_type'] = 'display_data';\n",
              "          await google.colab.output.renderOutput(dataTable, element);\n",
              "          const docLink = document.createElement('div');\n",
              "          docLink.innerHTML = docLinkHtml;\n",
              "          element.appendChild(docLink);\n",
              "        }\n",
              "      </script>\n",
              "    </div>\n",
              "  </div>\n",
              "  "
            ]
          },
          "metadata": {},
          "execution_count": 199
        }
      ]
    },
    {
      "cell_type": "code",
      "source": [
        "fig, _ = show_models_comparison(\n",
        "    models_times_df,\n",
        "    \"inference_mean\",\n",
        "    \"acc@1\",\n",
        "    \"Mean inference time (ms)\",\n",
        "    \"Top-1 accuracy\",\n",
        "    \"Accuracy vs Inference time on Imagenet-100K\",\n",
        "    text_coords={\"resnet18\": ((11.0, 12.0), \"center\", \"baseline\")},\n",
        ")\n",
        "plt.tight_layout()"
      ],
      "metadata": {
        "colab": {
          "base_uri": "https://localhost:8080/",
          "height": 725
        },
        "id": "uDWDuzQ51Vss",
        "outputId": "522e290b-1a4f-4a59-ee34-441cf46c7226"
      },
      "execution_count": 228,
      "outputs": [
        {
          "output_type": "display_data",
          "data": {
            "text/plain": [
              "<Figure size 720x720 with 1 Axes>"
            ],
            "image/png": "[encoded data removed]"
          },
          "metadata": {}
        }
      ]
    },
    {
      "cell_type": "code",
      "source": [
        "fname=\"accuracy_infer_speed.png\"\n",
        "fig.savefig(fname)\n",
        "files.download(fname) "
      ],
      "metadata": {
        "colab": {
          "base_uri": "https://localhost:8080/",
          "height": 17
        },
        "id": "5RL2mByXvc2v",
        "outputId": "f2bf330f-44bb-476f-c9a1-f201adea0000"
      },
      "execution_count": 214,
      "outputs": [
        {
          "output_type": "display_data",
          "data": {
            "text/plain": [
              "<IPython.core.display.Javascript object>"
            ],
            "application/javascript": [
              "\n",
              "    async function download(id, filename, size) {\n",
              "      if (!google.colab.kernel.accessAllowed) {\n",
              "        return;\n",
              "      }\n",
              "      const div = document.createElement('div');\n",
              "      const label = document.createElement('label');\n",
              "      label.textContent = `Downloading \"${filename}\": `;\n",
              "      div.appendChild(label);\n",
              "      const progress = document.createElement('progress');\n",
              "      progress.max = size;\n",
              "      div.appendChild(progress);\n",
              "      document.body.appendChild(div);\n",
              "\n",
              "      const buffers = [];\n",
              "      let downloaded = 0;\n",
              "\n",
              "      const channel = await google.colab.kernel.comms.open(id);\n",
              "      // Send a message to notify the kernel that we're ready.\n",
              "      channel.send({})\n",
              "\n",
              "      for await (const message of channel.messages) {\n",
              "        // Send a message to notify the kernel that we're ready.\n",
              "        channel.send({})\n",
              "        if (message.buffers) {\n",
              "          for (const buffer of message.buffers) {\n",
              "            buffers.push(buffer);\n",
              "            downloaded += buffer.byteLength;\n",
              "            progress.value = downloaded;\n",
              "          }\n",
              "        }\n",
              "      }\n",
              "      const blob = new Blob(buffers, {type: 'application/binary'});\n",
              "      const a = document.createElement('a');\n",
              "      a.href = window.URL.createObjectURL(blob);\n",
              "      a.download = filename;\n",
              "      div.appendChild(a);\n",
              "      a.click();\n",
              "      div.remove();\n",
              "    }\n",
              "  "
            ]
          },
          "metadata": {}
        },
        {
          "output_type": "display_data",
          "data": {
            "text/plain": [
              "<IPython.core.display.Javascript object>"
            ],
            "application/javascript": [
              "download(\"download_a7c5deff-5b31-4e8a-9ef6-b2141944335e\", \"accuracy_infer_speed.png\", 38309)"
            ]
          },
          "metadata": {}
        }
      ]
    },
    {
      "cell_type": "code",
      "source": [
        "fig, _ = show_models_comparison(\n",
        "    models_times_df,\n",
        "    \"inference_mean\",\n",
        "    \"num_params\",\n",
        "    \"Mean inference time (ms)\",\n",
        "    \"Number of parameters (log)\",\n",
        "    \"Number of model parameters vs Inference time on Imagenet-100K\",\n",
        "    text_coords={\n",
        "        \"resnet18\": ((11.0, 13.0), \"center\", \"baseline\"),\n",
        "        \"vgg11\": ((0.0, 9.0), \"right\", \"baseline\"),\n",
        "        \"vgg11_bn\": ((0.0, -16.0), \"left\", \"baseline\"),\n",
        "    },\n",
        "    yscale=\"log\"\n",
        ")\n",
        "plt.tight_layout()"
      ],
      "metadata": {
        "colab": {
          "base_uri": "https://localhost:8080/",
          "height": 725
        },
        "id": "5uLVVkN6zize",
        "outputId": "0712def0-0b90-4834-8130-054728aa3380"
      },
      "execution_count": 230,
      "outputs": [
        {
          "output_type": "display_data",
          "data": {
            "text/plain": [
              "<Figure size 720x720 with 1 Axes>"
            ],
            "image/png": "[encoded data removed]"
          },
          "metadata": {}
        }
      ]
    },
    {
      "cell_type": "code",
      "source": [
        "fname=\"numparams_infer_speed.png\"\n",
        "fig.savefig(fname)\n",
        "files.download(fname) "
      ],
      "metadata": {
        "colab": {
          "base_uri": "https://localhost:8080/",
          "height": 17
        },
        "outputId": "80947953-92ac-4e3e-fbf2-31d2a0ac39a5",
        "id": "DVyDS9b2vtsM"
      },
      "execution_count": 216,
      "outputs": [
        {
          "output_type": "display_data",
          "data": {
            "text/plain": [
              "<IPython.core.display.Javascript object>"
            ],
            "application/javascript": [
              "\n",
              "    async function download(id, filename, size) {\n",
              "      if (!google.colab.kernel.accessAllowed) {\n",
              "        return;\n",
              "      }\n",
              "      const div = document.createElement('div');\n",
              "      const label = document.createElement('label');\n",
              "      label.textContent = `Downloading \"${filename}\": `;\n",
              "      div.appendChild(label);\n",
              "      const progress = document.createElement('progress');\n",
              "      progress.max = size;\n",
              "      div.appendChild(progress);\n",
              "      document.body.appendChild(div);\n",
              "\n",
              "      const buffers = [];\n",
              "      let downloaded = 0;\n",
              "\n",
              "      const channel = await google.colab.kernel.comms.open(id);\n",
              "      // Send a message to notify the kernel that we're ready.\n",
              "      channel.send({})\n",
              "\n",
              "      for await (const message of channel.messages) {\n",
              "        // Send a message to notify the kernel that we're ready.\n",
              "        channel.send({})\n",
              "        if (message.buffers) {\n",
              "          for (const buffer of message.buffers) {\n",
              "            buffers.push(buffer);\n",
              "            downloaded += buffer.byteLength;\n",
              "            progress.value = downloaded;\n",
              "          }\n",
              "        }\n",
              "      }\n",
              "      const blob = new Blob(buffers, {type: 'application/binary'});\n",
              "      const a = document.createElement('a');\n",
              "      a.href = window.URL.createObjectURL(blob);\n",
              "      a.download = filename;\n",
              "      div.appendChild(a);\n",
              "      a.click();\n",
              "      div.remove();\n",
              "    }\n",
              "  "
            ]
          },
          "metadata": {}
        },
        {
          "output_type": "display_data",
          "data": {
            "text/plain": [
              "<IPython.core.display.Javascript object>"
            ],
            "application/javascript": [
              "download(\"download_db40a0e3-5e25-46dd-9daf-59806f5cecee\", \"numparams_infer_speed.png\", 37528)"
            ]
          },
          "metadata": {}
        }
      ]
    },
    {
      "cell_type": "code",
      "source": [
        "#weights = models.ResNet18_Weights.DEFAULT\n",
        "#preprocess = weights.transforms()\n",
        "#model = models.resnet18(weights=weights).to(device)\n",
        "#times = eval_model(model, dummy_input, preprocess, warmup_steps=0)\n",
        "#print(times.mean())"
      ],
      "metadata": {
        "id": "txB3O1KIiNIJ"
      },
      "execution_count": null,
      "outputs": []
    }
  ]
}