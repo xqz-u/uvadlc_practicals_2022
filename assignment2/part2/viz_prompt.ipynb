{
 "cells": [
  {
   "cell_type": "code",
   "execution_count": null,
   "id": "ad826c47-13c0-4046-9c41-91ac3c091f0d",
   "metadata": {},
   "outputs": [],
   "source": [
    "from pprint import pprint\n",
    "\n",
    "from main import parse_option\n",
    "from learner import Learner"
   ]
  },
  {
   "cell_type": "code",
   "execution_count": null,
   "id": "09f56b7e-ce73-4bee-a310-e0956f7094b0",
   "metadata": {},
   "outputs": [
    {
     "name": "stdout",
     "output_type": "stream",
     "text": [
      "{'arch': 'ViT-B/32',\n",
      " 'batch_size': 128,\n",
      " 'dataset': 'cifar10',\n",
      " 'device': 'cuda',\n",
      " 'epochs': 10,\n",
      " 'evaluate': False,\n",
      " 'filename': 'padding_30_cifar10_clip_ViT-B/32_sgd_lr_40_decay_0_bsz_128_warmup_1000_trial_1',\n",
      " 'gpu': None,\n",
      " 'image_dir': './save/images',\n",
      " 'image_size': 224,\n",
      " 'learning_rate': 40,\n",
      " 'method': 'padding',\n",
      " 'model': 'clip',\n",
      " 'model_dir': './save/models',\n",
      " 'model_folder': './save/models/padding_30_cifar10_clip_ViT-B/32_sgd_lr_40_decay_0_bsz_128_warmup_1000_trial_1',\n",
      " 'momentum': 0.9,\n",
      " 'num_workers': 3,\n",
      " 'optim': 'sgd',\n",
      " 'patience': 5,\n",
      " 'print_freq': 50,\n",
      " 'prompt_size': 30,\n",
      " 'resume': None,\n",
      " 'root': './data',\n",
      " 'save_freq': 50,\n",
      " 'seed': 0,\n",
      " 'square_size': 8,\n",
      " 'test_noise': False,\n",
      " 'text_prompt_template': 'This is a photo of a {}',\n",
      " 'trial': 1,\n",
      " 'use_wandb': False,\n",
      " 'verbose': True,\n",
      " 'visualize_prompt': True,\n",
      " 'warmup': 1000,\n",
      " 'weight_decay': 0}\n"
     ]
    }
   ],
   "source": [
    "parser = parse_option()\n",
    "method = \"padding\"\n",
    "prompt_size = \"30\"\n",
    "config = f\"--method {method} --prompt_size {prompt_size} --verbose --dataset cifar10 --num_workers 3 --print_freq 50 --visualize --epochs 10 --patience 5\"\n",
    "args = parser(config.split())\n",
    "pprint(vars(args))"
   ]
  },
  {
   "cell_type": "code",
   "execution_count": null,
   "id": "5e35cf48-f84d-4646-bd23-b4f0ae453220",
   "metadata": {},
   "outputs": [
    {
     "name": "stdout",
     "output_type": "stream",
     "text": [
      "Files already downloaded and verified\n",
      "Files already downloaded and verified\n",
      "Building custom CLIP\n",
      "Loading CLIP (backbone: ViT-B/32)\n",
      "List of prompts:\n",
      "['This is a photo of a airplane',\n",
      " 'This is a photo of a automobile',\n",
      " 'This is a photo of a bird',\n",
      " 'This is a photo of a cat',\n",
      " 'This is a photo of a deer',\n",
      " 'This is a photo of a dog',\n",
      " 'This is a photo of a frog',\n",
      " 'This is a photo of a horse',\n",
      " 'This is a photo of a ship',\n",
      " 'This is a photo of a truck']\n",
      "Visualizing prompt...\n",
      "Turning off gradients in both the image and the text encoder\n",
      "(\"Parameters to be updated: {'prompt_learner.pad_down', \"\n",
      " \"'prompt_learner.pad_left', 'prompt_learner.pad_right', \"\n",
      " \"'prompt_learner.pad_up'}\")\n",
      "Number of prompt parameters:  69840\n"
     ]
    }
   ],
   "source": [
    "learn = Learner(args)"
   ]
  },
  {
   "cell_type": "code",
   "execution_count": null,
   "id": "d23f4c9f-3da3-4da7-b4c7-03e55fb09d27",
   "metadata": {},
   "outputs": [
    {
     "name": "stderr",
     "output_type": "stream",
     "text": [
      "  0%|▍                                                                                                                       | 1/313 [00:02<14:51,  2.86s/it]"
     ]
    },
    {
     "name": "stdout",
     "output_type": "stream",
     "text": [
      "Epoch: [0][  0/313]\tTime  2.858 ( 2.858)\tData  0.943 ( 0.943)\tLoss 8.0076e+00 (8.0076e+00)\tAcc@1  74.22 ( 74.22)\n"
     ]
    },
    {
     "name": "stderr",
     "output_type": "stream",
     "text": [
      " 16%|███████████████████▍                                                                                                   | 51/313 [00:24<01:53,  2.30it/s]"
     ]
    },
    {
     "name": "stdout",
     "output_type": "stream",
     "text": [
      "Epoch: [0][ 50/313]\tTime  0.435 ( 0.476)\tData  0.030 ( 0.044)\tLoss 6.0171e-01 (9.0305e-01)\tAcc@1  83.59 ( 77.19)\n"
     ]
    },
    {
     "name": "stderr",
     "output_type": "stream",
     "text": [
      " 32%|██████████████████████████████████████                                                                                | 101/313 [00:45<01:30,  2.34it/s]"
     ]
    },
    {
     "name": "stdout",
     "output_type": "stream",
     "text": [
      "Epoch: [0][100/313]\tTime  0.422 ( 0.453)\tData  0.020 ( 0.034)\tLoss 5.5498e-01 (7.6924e-01)\tAcc@1  86.72 ( 79.54)\n"
     ]
    },
    {
     "name": "stderr",
     "output_type": "stream",
     "text": [
      " 48%|████████████████████████████████████████████████████████▉                                                             | 151/313 [01:07<01:09,  2.33it/s]"
     ]
    },
    {
     "name": "stdout",
     "output_type": "stream",
     "text": [
      "Epoch: [0][150/313]\tTime  0.431 ( 0.445)\tData  0.027 ( 0.031)\tLoss 5.1446e-01 (6.8727e-01)\tAcc@1  88.28 ( 81.80)\n"
     ]
    },
    {
     "name": "stderr",
     "output_type": "stream",
     "text": [
      " 64%|███████████████████████████████████████████████████████████████████████████▊                                          | 201/313 [01:28<00:47,  2.34it/s]"
     ]
    },
    {
     "name": "stdout",
     "output_type": "stream",
     "text": [
      "Epoch: [0][200/313]\tTime  0.428 ( 0.441)\tData  0.027 ( 0.029)\tLoss 3.8673e-01 (6.2462e-01)\tAcc@1  89.06 ( 83.44)\n"
     ]
    },
    {
     "name": "stderr",
     "output_type": "stream",
     "text": [
      " 80%|██████████████████████████████████████████████████████████████████████████████████████████████▋                       | 251/313 [01:49<00:26,  2.32it/s]"
     ]
    },
    {
     "name": "stdout",
     "output_type": "stream",
     "text": [
      "Epoch: [0][250/313]\tTime  0.433 ( 0.438)\tData  0.021 ( 0.028)\tLoss 3.2159e-01 (5.7144e-01)\tAcc@1  91.41 ( 84.67)\n"
     ]
    },
    {
     "name": "stderr",
     "output_type": "stream",
     "text": [
      " 96%|█████████████████████████████████████████████████████████████████████████████████████████████████████████████████▍    | 301/313 [02:11<00:05,  2.29it/s]"
     ]
    },
    {
     "name": "stdout",
     "output_type": "stream",
     "text": [
      "Epoch: [0][300/313]\tTime  0.437 ( 0.437)\tData  0.024 ( 0.027)\tLoss 3.0449e-01 (5.3186e-01)\tAcc@1  89.84 ( 85.49)\n"
     ]
    },
    {
     "name": "stderr",
     "output_type": "stream",
     "text": [
      "100%|██████████████████████████████████████████████████████████████████████████████████████████████████████████████████████| 313/313 [02:16<00:00,  2.29it/s]\n",
      "  1%|█▌                                                                                                                       | 1/79 [00:01<01:35,  1.22s/it]"
     ]
    },
    {
     "name": "stdout",
     "output_type": "stream",
     "text": [
      "Validate: [ 0/79]\tTime  1.222 ( 1.222)\tLoss 4.3774e-01 (4.3774e-01)\tPrompt Acc@1  85.94 ( 85.94)\n"
     ]
    },
    {
     "name": "stderr",
     "output_type": "stream",
     "text": [
      " 65%|█████████████████████████████████████████████████████████████████████████████▍                                          | 51/79 [00:12<00:06,  4.39it/s]"
     ]
    },
    {
     "name": "stdout",
     "output_type": "stream",
     "text": [
      "Validate: [50/79]\tTime  0.228 ( 0.255)\tLoss 4.2163e-01 (3.3071e-01)\tPrompt Acc@1  87.50 ( 90.04)\n"
     ]
    },
    {
     "name": "stderr",
     "output_type": "stream",
     "text": [
      "100%|████████████████████████████████████████████████████████████████████████████████████████████████████████████████████████| 79/79 [00:19<00:00,  4.10it/s]\n"
     ]
    },
    {
     "name": "stdout",
     "output_type": "stream",
     "text": [
      " * Prompt Acc@1 89.930\n",
      "saved best file\n"
     ]
    },
    {
     "name": "stderr",
     "output_type": "stream",
     "text": [
      "  0%|▍                                                                                                                       | 1/313 [00:01<08:11,  1.58s/it]"
     ]
    },
    {
     "name": "stdout",
     "output_type": "stream",
     "text": [
      "Epoch: [1][  0/313]\tTime  1.570 ( 1.570)\tData  1.138 ( 1.138)\tLoss 4.5390e-01 (4.5390e-01)\tAcc@1  86.72 ( 86.72)\n"
     ]
    },
    {
     "name": "stderr",
     "output_type": "stream",
     "text": [
      " 16%|███████████████████▍                                                                                                   | 51/313 [00:23<01:53,  2.30it/s]"
     ]
    },
    {
     "name": "stdout",
     "output_type": "stream",
     "text": [
      "Epoch: [1][ 50/313]\tTime  0.437 ( 0.458)\tData  0.032 ( 0.049)\tLoss 2.7244e-01 (3.1772e-01)\tAcc@1  89.84 ( 89.89)\n"
     ]
    },
    {
     "name": "stderr",
     "output_type": "stream",
     "text": [
      " 32%|██████████████████████████████████████                                                                                | 101/313 [00:44<01:33,  2.27it/s]"
     ]
    },
    {
     "name": "stdout",
     "output_type": "stream",
     "text": [
      "Epoch: [1][100/313]\tTime  0.448 ( 0.445)\tData  0.030 ( 0.037)\tLoss 3.1471e-01 (3.1710e-01)\tAcc@1  92.19 ( 89.78)\n"
     ]
    },
    {
     "name": "stderr",
     "output_type": "stream",
     "text": [
      " 48%|████████████████████████████████████████████████████████▉                                                             | 151/313 [01:06<01:10,  2.31it/s]"
     ]
    },
    {
     "name": "stdout",
     "output_type": "stream",
     "text": [
      "Epoch: [1][150/313]\tTime  0.434 ( 0.441)\tData  0.033 ( 0.033)\tLoss 2.3549e-01 (3.0670e-01)\tAcc@1  92.97 ( 90.28)\n"
     ]
    },
    {
     "name": "stderr",
     "output_type": "stream",
     "text": [
      " 64%|███████████████████████████████████████████████████████████████████████████▊                                          | 201/313 [01:27<00:48,  2.32it/s]"
     ]
    },
    {
     "name": "stdout",
     "output_type": "stream",
     "text": [
      "Epoch: [1][200/313]\tTime  0.424 ( 0.437)\tData  0.022 ( 0.031)\tLoss 2.5743e-01 (2.9951e-01)\tAcc@1  89.84 ( 90.54)\n"
     ]
    },
    {
     "name": "stderr",
     "output_type": "stream",
     "text": [
      " 80%|██████████████████████████████████████████████████████████████████████████████████████████████▋                       | 251/313 [01:49<00:26,  2.33it/s]"
     ]
    },
    {
     "name": "stdout",
     "output_type": "stream",
     "text": [
      "Epoch: [1][250/313]\tTime  0.426 ( 0.436)\tData  0.020 ( 0.029)\tLoss 2.6320e-01 (2.9478e-01)\tAcc@1  92.97 ( 90.71)\n"
     ]
    },
    {
     "name": "stderr",
     "output_type": "stream",
     "text": [
      " 96%|█████████████████████████████████████████████████████████████████████████████████████████████████████████████████▍    | 301/313 [02:10<00:05,  2.32it/s]"
     ]
    },
    {
     "name": "stdout",
     "output_type": "stream",
     "text": [
      "Epoch: [1][300/313]\tTime  0.427 ( 0.435)\tData  0.024 ( 0.028)\tLoss 2.3906e-01 (2.9269e-01)\tAcc@1  92.19 ( 90.74)\n"
     ]
    },
    {
     "name": "stderr",
     "output_type": "stream",
     "text": [
      "100%|██████████████████████████████████████████████████████████████████████████████████████████████████████████████████████| 313/313 [02:15<00:00,  2.30it/s]\n",
      "  1%|█▌                                                                                                                       | 1/79 [00:01<01:49,  1.40s/it]"
     ]
    },
    {
     "name": "stdout",
     "output_type": "stream",
     "text": [
      "Validate: [ 0/79]\tTime  1.402 ( 1.402)\tLoss 3.9941e-01 (3.9941e-01)\tPrompt Acc@1  86.72 ( 86.72)\n"
     ]
    },
    {
     "name": "stderr",
     "output_type": "stream",
     "text": [
      " 65%|█████████████████████████████████████████████████████████████████████████████▍                                          | 51/79 [00:12<00:06,  4.45it/s]"
     ]
    },
    {
     "name": "stdout",
     "output_type": "stream",
     "text": [
      "Validate: [50/79]\tTime  0.226 ( 0.252)\tLoss 3.6450e-01 (2.8568e-01)\tPrompt Acc@1  89.84 ( 91.31)\n"
     ]
    },
    {
     "name": "stderr",
     "output_type": "stream",
     "text": [
      "100%|████████████████████████████████████████████████████████████████████████████████████████████████████████████████████████| 79/79 [00:19<00:00,  4.13it/s]\n"
     ]
    },
    {
     "name": "stdout",
     "output_type": "stream",
     "text": [
      " * Prompt Acc@1 91.050\n",
      "saved best file\n"
     ]
    },
    {
     "name": "stderr",
     "output_type": "stream",
     "text": [
      "  0%|▍                                                                                                                       | 1/313 [00:01<08:59,  1.73s/it]"
     ]
    },
    {
     "name": "stdout",
     "output_type": "stream",
     "text": [
      "Epoch: [2][  0/313]\tTime  1.720 ( 1.720)\tData  1.298 ( 1.298)\tLoss 3.9094e-01 (3.9094e-01)\tAcc@1  89.84 ( 89.84)\n"
     ]
    },
    {
     "name": "stderr",
     "output_type": "stream",
     "text": [
      " 16%|███████████████████▍                                                                                                   | 51/313 [00:23<01:53,  2.31it/s]"
     ]
    },
    {
     "name": "stdout",
     "output_type": "stream",
     "text": [
      "Epoch: [2][ 50/313]\tTime  0.423 ( 0.458)\tData  0.021 ( 0.051)\tLoss 2.5874e-01 (2.7312e-01)\tAcc@1  92.97 ( 91.36)\n"
     ]
    },
    {
     "name": "stderr",
     "output_type": "stream",
     "text": [
      " 32%|██████████████████████████████████████                                                                                | 101/313 [00:44<01:31,  2.31it/s]"
     ]
    },
    {
     "name": "stdout",
     "output_type": "stream",
     "text": [
      "Epoch: [2][100/313]\tTime  0.433 ( 0.444)\tData  0.024 ( 0.038)\tLoss 2.8691e-01 (2.7586e-01)\tAcc@1  90.62 ( 91.17)\n"
     ]
    },
    {
     "name": "stderr",
     "output_type": "stream",
     "text": [
      " 48%|████████████████████████████████████████████████████████▉                                                             | 151/313 [01:06<01:09,  2.34it/s]"
     ]
    },
    {
     "name": "stdout",
     "output_type": "stream",
     "text": [
      "Epoch: [2][150/313]\tTime  0.420 ( 0.440)\tData  0.019 ( 0.034)\tLoss 1.8779e-01 (2.7022e-01)\tAcc@1  92.97 ( 91.38)\n"
     ]
    },
    {
     "name": "stderr",
     "output_type": "stream",
     "text": [
      " 64%|███████████████████████████████████████████████████████████████████████████▊                                          | 201/313 [01:28<00:48,  2.31it/s]"
     ]
    },
    {
     "name": "stdout",
     "output_type": "stream",
     "text": [
      "Epoch: [2][200/313]\tTime  0.431 ( 0.438)\tData  0.024 ( 0.032)\tLoss 2.3305e-01 (2.6672e-01)\tAcc@1  91.41 ( 91.47)\n"
     ]
    },
    {
     "name": "stderr",
     "output_type": "stream",
     "text": [
      " 80%|██████████████████████████████████████████████████████████████████████████████████████████████▋                       | 251/313 [01:49<00:26,  2.32it/s]"
     ]
    },
    {
     "name": "stdout",
     "output_type": "stream",
     "text": [
      "Epoch: [2][250/313]\tTime  0.427 ( 0.437)\tData  0.025 ( 0.030)\tLoss 2.3380e-01 (2.6421e-01)\tAcc@1  94.53 ( 91.50)\n"
     ]
    },
    {
     "name": "stderr",
     "output_type": "stream",
     "text": [
      " 96%|█████████████████████████████████████████████████████████████████████████████████████████████████████████████████▍    | 301/313 [02:10<00:05,  2.37it/s]"
     ]
    },
    {
     "name": "stdout",
     "output_type": "stream",
     "text": [
      "Epoch: [2][300/313]\tTime  0.425 ( 0.434)\tData  0.023 ( 0.029)\tLoss 2.4093e-01 (2.6389e-01)\tAcc@1  92.97 ( 91.51)\n"
     ]
    },
    {
     "name": "stderr",
     "output_type": "stream",
     "text": [
      "100%|██████████████████████████████████████████████████████████████████████████████████████████████████████████████████████| 313/313 [02:15<00:00,  2.31it/s]\n",
      "  1%|█▌                                                                                                                       | 1/79 [00:01<01:45,  1.36s/it]"
     ]
    },
    {
     "name": "stdout",
     "output_type": "stream",
     "text": [
      "Validate: [ 0/79]\tTime  1.358 ( 1.358)\tLoss 4.1064e-01 (4.1064e-01)\tPrompt Acc@1  85.16 ( 85.16)\n"
     ]
    },
    {
     "name": "stderr",
     "output_type": "stream",
     "text": [
      " 65%|█████████████████████████████████████████████████████████████████████████████▍                                          | 51/79 [00:12<00:06,  4.48it/s]"
     ]
    },
    {
     "name": "stdout",
     "output_type": "stream",
     "text": [
      "Validate: [50/79]\tTime  0.223 ( 0.252)\tLoss 3.4058e-01 (2.7922e-01)\tPrompt Acc@1  89.84 ( 91.28)\n"
     ]
    },
    {
     "name": "stderr",
     "output_type": "stream",
     "text": [
      "100%|████████████████████████████████████████████████████████████████████████████████████████████████████████████████████████| 79/79 [00:19<00:00,  4.15it/s]\n"
     ]
    },
    {
     "name": "stdout",
     "output_type": "stream",
     "text": [
      " * Prompt Acc@1 91.110\n",
      "saved best file\n"
     ]
    },
    {
     "name": "stderr",
     "output_type": "stream",
     "text": [
      "  0%|▍                                                                                                                       | 1/313 [00:01<07:42,  1.48s/it]"
     ]
    },
    {
     "name": "stdout",
     "output_type": "stream",
     "text": [
      "Epoch: [3][  0/313]\tTime  1.476 ( 1.476)\tData  1.074 ( 1.074)\tLoss 3.8789e-01 (3.8789e-01)\tAcc@1  88.28 ( 88.28)\n"
     ]
    },
    {
     "name": "stderr",
     "output_type": "stream",
     "text": [
      " 16%|███████████████████▍                                                                                                   | 51/313 [00:23<01:52,  2.32it/s]"
     ]
    },
    {
     "name": "stdout",
     "output_type": "stream",
     "text": [
      "Epoch: [3][ 50/313]\tTime  0.432 ( 0.454)\tData  0.025 ( 0.046)\tLoss 2.2254e-01 (2.5665e-01)\tAcc@1  91.41 ( 91.70)\n"
     ]
    },
    {
     "name": "stderr",
     "output_type": "stream",
     "text": [
      " 32%|██████████████████████████████████████                                                                                | 101/313 [00:44<01:31,  2.31it/s]"
     ]
    },
    {
     "name": "stdout",
     "output_type": "stream",
     "text": [
      "Epoch: [3][100/313]\tTime  0.435 ( 0.443)\tData  0.022 ( 0.035)\tLoss 2.5835e-01 (2.5815e-01)\tAcc@1  92.97 ( 91.65)\n"
     ]
    },
    {
     "name": "stderr",
     "output_type": "stream",
     "text": [
      " 48%|████████████████████████████████████████████████████████▉                                                             | 151/313 [01:06<01:09,  2.32it/s]"
     ]
    },
    {
     "name": "stdout",
     "output_type": "stream",
     "text": [
      "Epoch: [3][150/313]\tTime  0.431 ( 0.439)\tData  0.024 ( 0.031)\tLoss 1.8634e-01 (2.5310e-01)\tAcc@1  93.75 ( 91.78)\n"
     ]
    },
    {
     "name": "stderr",
     "output_type": "stream",
     "text": [
      " 64%|███████████████████████████████████████████████████████████████████████████▊                                          | 201/313 [01:27<00:47,  2.34it/s]"
     ]
    },
    {
     "name": "stdout",
     "output_type": "stream",
     "text": [
      "Epoch: [3][200/313]\tTime  0.423 ( 0.437)\tData  0.021 ( 0.029)\tLoss 2.1207e-01 (2.5031e-01)\tAcc@1  94.53 ( 91.92)\n"
     ]
    },
    {
     "name": "stderr",
     "output_type": "stream",
     "text": [
      " 80%|██████████████████████████████████████████████████████████████████████████████████████████████▋                       | 251/313 [01:49<00:26,  2.31it/s]"
     ]
    },
    {
     "name": "stdout",
     "output_type": "stream",
     "text": [
      "Epoch: [3][250/313]\tTime  0.429 ( 0.436)\tData  0.022 ( 0.028)\tLoss 2.1583e-01 (2.4814e-01)\tAcc@1  93.75 ( 92.03)\n"
     ]
    },
    {
     "name": "stderr",
     "output_type": "stream",
     "text": [
      " 96%|█████████████████████████████████████████████████████████████████████████████████████████████████████████████████▍    | 301/313 [02:11<00:05,  2.30it/s]"
     ]
    },
    {
     "name": "stdout",
     "output_type": "stream",
     "text": [
      "Epoch: [3][300/313]\tTime  0.435 ( 0.435)\tData  0.023 ( 0.027)\tLoss 2.2727e-01 (2.4842e-01)\tAcc@1  92.97 ( 92.03)\n"
     ]
    },
    {
     "name": "stderr",
     "output_type": "stream",
     "text": [
      "100%|██████████████████████████████████████████████████████████████████████████████████████████████████████████████████████| 313/313 [02:16<00:00,  2.30it/s]\n",
      "  1%|█▌                                                                                                                       | 1/79 [00:01<01:31,  1.17s/it]"
     ]
    },
    {
     "name": "stdout",
     "output_type": "stream",
     "text": [
      "Validate: [ 0/79]\tTime  1.173 ( 1.173)\tLoss 3.7231e-01 (3.7231e-01)\tPrompt Acc@1  85.94 ( 85.94)\n"
     ]
    },
    {
     "name": "stderr",
     "output_type": "stream",
     "text": [
      " 65%|█████████████████████████████████████████████████████████████████████████████▍                                          | 51/79 [00:12<00:06,  4.54it/s]"
     ]
    },
    {
     "name": "stdout",
     "output_type": "stream",
     "text": [
      "Validate: [50/79]\tTime  0.221 ( 0.247)\tLoss 3.2251e-01 (2.6059e-01)\tPrompt Acc@1  89.06 ( 91.73)\n"
     ]
    },
    {
     "name": "stderr",
     "output_type": "stream",
     "text": [
      "100%|████████████████████████████████████████████████████████████████████████████████████████████████████████████████████████| 79/79 [00:18<00:00,  4.22it/s]\n"
     ]
    },
    {
     "name": "stdout",
     "output_type": "stream",
     "text": [
      " * Prompt Acc@1 91.690\n",
      "saved best file\n"
     ]
    },
    {
     "name": "stderr",
     "output_type": "stream",
     "text": [
      "  0%|▍                                                                                                                       | 1/313 [00:01<07:45,  1.49s/it]"
     ]
    },
    {
     "name": "stdout",
     "output_type": "stream",
     "text": [
      "Epoch: [4][  0/313]\tTime  1.488 ( 1.488)\tData  1.047 ( 1.047)\tLoss 3.6769e-01 (3.6769e-01)\tAcc@1  86.72 ( 86.72)\n"
     ]
    },
    {
     "name": "stderr",
     "output_type": "stream",
     "text": [
      " 16%|███████████████████▍                                                                                                   | 51/313 [00:23<01:52,  2.32it/s]"
     ]
    },
    {
     "name": "stdout",
     "output_type": "stream",
     "text": [
      "Epoch: [4][ 50/313]\tTime  0.425 ( 0.451)\tData  0.024 ( 0.043)\tLoss 2.0798e-01 (2.3510e-01)\tAcc@1  93.75 ( 92.63)\n"
     ]
    },
    {
     "name": "stderr",
     "output_type": "stream",
     "text": [
      " 32%|██████████████████████████████████████                                                                                | 101/313 [00:44<01:31,  2.32it/s]"
     ]
    },
    {
     "name": "stdout",
     "output_type": "stream",
     "text": [
      "Epoch: [4][100/313]\tTime  0.426 ( 0.441)\tData  0.019 ( 0.033)\tLoss 2.4111e-01 (2.3669e-01)\tAcc@1  92.97 ( 92.46)\n"
     ]
    },
    {
     "name": "stderr",
     "output_type": "stream",
     "text": [
      " 48%|████████████████████████████████████████████████████████▉                                                             | 151/313 [01:06<01:10,  2.30it/s]"
     ]
    },
    {
     "name": "stdout",
     "output_type": "stream",
     "text": [
      "Epoch: [4][150/313]\tTime  0.426 ( 0.438)\tData  0.023 ( 0.030)\tLoss 1.7648e-01 (2.3381e-01)\tAcc@1  93.75 ( 92.53)\n"
     ]
    },
    {
     "name": "stderr",
     "output_type": "stream",
     "text": [
      " 64%|███████████████████████████████████████████████████████████████████████████▊                                          | 201/313 [01:27<00:48,  2.33it/s]"
     ]
    },
    {
     "name": "stdout",
     "output_type": "stream",
     "text": [
      "Epoch: [4][200/313]\tTime  0.425 ( 0.436)\tData  0.019 ( 0.028)\tLoss 2.1478e-01 (2.3199e-01)\tAcc@1  92.97 ( 92.61)\n"
     ]
    },
    {
     "name": "stderr",
     "output_type": "stream",
     "text": [
      " 80%|██████████████████████████████████████████████████████████████████████████████████████████████▋                       | 251/313 [01:49<00:27,  2.27it/s]"
     ]
    },
    {
     "name": "stdout",
     "output_type": "stream",
     "text": [
      "Epoch: [4][250/313]\tTime  0.444 ( 0.435)\tData  0.026 ( 0.027)\tLoss 1.7429e-01 (2.3059e-01)\tAcc@1  96.09 ( 92.67)\n"
     ]
    },
    {
     "name": "stderr",
     "output_type": "stream",
     "text": [
      " 96%|█████████████████████████████████████████████████████████████████████████████████████████████████████████████████▍    | 301/313 [02:10<00:05,  2.30it/s]"
     ]
    },
    {
     "name": "stdout",
     "output_type": "stream",
     "text": [
      "Epoch: [4][300/313]\tTime  0.437 ( 0.435)\tData  0.020 ( 0.027)\tLoss 1.9864e-01 (2.3097e-01)\tAcc@1  93.75 ( 92.63)\n"
     ]
    },
    {
     "name": "stderr",
     "output_type": "stream",
     "text": [
      "100%|██████████████████████████████████████████████████████████████████████████████████████████████████████████████████████| 313/313 [02:15<00:00,  2.30it/s]\n",
      "  1%|█▌                                                                                                                       | 1/79 [00:01<01:33,  1.20s/it]"
     ]
    },
    {
     "name": "stdout",
     "output_type": "stream",
     "text": [
      "Validate: [ 0/79]\tTime  1.199 ( 1.199)\tLoss 3.5669e-01 (3.5669e-01)\tPrompt Acc@1  86.72 ( 86.72)\n"
     ]
    },
    {
     "name": "stderr",
     "output_type": "stream",
     "text": [
      " 65%|█████████████████████████████████████████████████████████████████████████████▍                                          | 51/79 [00:12<00:06,  4.42it/s]"
     ]
    },
    {
     "name": "stdout",
     "output_type": "stream",
     "text": [
      "Validate: [50/79]\tTime  0.228 ( 0.248)\tLoss 3.0322e-01 (2.4683e-01)\tPrompt Acc@1  90.62 ( 92.20)\n"
     ]
    },
    {
     "name": "stderr",
     "output_type": "stream",
     "text": [
      "100%|████████████████████████████████████████████████████████████████████████████████████████████████████████████████████████| 79/79 [00:18<00:00,  4.18it/s]\n"
     ]
    },
    {
     "name": "stdout",
     "output_type": "stream",
     "text": [
      " * Prompt Acc@1 92.060\n",
      "saved best file\n"
     ]
    },
    {
     "name": "stderr",
     "output_type": "stream",
     "text": [
      "  0%|▍                                                                                                                       | 1/313 [00:01<07:17,  1.40s/it]"
     ]
    },
    {
     "name": "stdout",
     "output_type": "stream",
     "text": [
      "Epoch: [5][  0/313]\tTime  1.396 ( 1.396)\tData  0.964 ( 0.964)\tLoss 3.4200e-01 (3.4200e-01)\tAcc@1  87.50 ( 87.50)\n"
     ]
    },
    {
     "name": "stderr",
     "output_type": "stream",
     "text": [
      " 16%|███████████████████▍                                                                                                   | 51/313 [00:23<01:53,  2.31it/s]"
     ]
    },
    {
     "name": "stdout",
     "output_type": "stream",
     "text": [
      "Epoch: [5][ 50/313]\tTime  0.429 ( 0.451)\tData  0.026 ( 0.043)\tLoss 2.0512e-01 (2.1989e-01)\tAcc@1  92.97 ( 93.21)\n"
     ]
    },
    {
     "name": "stderr",
     "output_type": "stream",
     "text": [
      " 32%|██████████████████████████████████████                                                                                | 101/313 [00:44<01:31,  2.31it/s]"
     ]
    },
    {
     "name": "stdout",
     "output_type": "stream",
     "text": [
      "Epoch: [5][100/313]\tTime  0.430 ( 0.441)\tData  0.021 ( 0.033)\tLoss 2.3147e-01 (2.2167e-01)\tAcc@1  92.97 ( 92.95)\n"
     ]
    },
    {
     "name": "stderr",
     "output_type": "stream",
     "text": [
      " 48%|████████████████████████████████████████████████████████▉                                                             | 151/313 [01:06<01:10,  2.30it/s]"
     ]
    },
    {
     "name": "stdout",
     "output_type": "stream",
     "text": [
      "Epoch: [5][150/313]\tTime  0.429 ( 0.438)\tData  0.022 ( 0.030)\tLoss 1.6413e-01 (2.1931e-01)\tAcc@1  94.53 ( 93.05)\n"
     ]
    },
    {
     "name": "stderr",
     "output_type": "stream",
     "text": [
      " 64%|███████████████████████████████████████████████████████████████████████████▊                                          | 201/313 [01:27<00:48,  2.30it/s]"
     ]
    },
    {
     "name": "stdout",
     "output_type": "stream",
     "text": [
      "Epoch: [5][200/313]\tTime  0.437 ( 0.436)\tData  0.034 ( 0.028)\tLoss 1.9031e-01 (2.1788e-01)\tAcc@1  92.97 ( 93.09)\n"
     ]
    },
    {
     "name": "stderr",
     "output_type": "stream",
     "text": [
      " 80%|██████████████████████████████████████████████████████████████████████████████████████████████▋                       | 251/313 [01:49<00:26,  2.31it/s]"
     ]
    },
    {
     "name": "stdout",
     "output_type": "stream",
     "text": [
      "Epoch: [5][250/313]\tTime  0.424 ( 0.435)\tData  0.021 ( 0.027)\tLoss 1.6545e-01 (2.1675e-01)\tAcc@1  94.53 ( 93.14)\n"
     ]
    },
    {
     "name": "stderr",
     "output_type": "stream",
     "text": [
      " 96%|█████████████████████████████████████████████████████████████████████████████████████████████████████████████████▍    | 301/313 [02:10<00:05,  2.30it/s]"
     ]
    },
    {
     "name": "stdout",
     "output_type": "stream",
     "text": [
      "Epoch: [5][300/313]\tTime  0.429 ( 0.435)\tData  0.027 ( 0.027)\tLoss 1.8668e-01 (2.1707e-01)\tAcc@1  94.53 ( 93.13)\n"
     ]
    },
    {
     "name": "stderr",
     "output_type": "stream",
     "text": [
      "100%|██████████████████████████████████████████████████████████████████████████████████████████████████████████████████████| 313/313 [02:15<00:00,  2.30it/s]\n",
      "  1%|█▌                                                                                                                       | 1/79 [00:01<01:33,  1.19s/it]"
     ]
    },
    {
     "name": "stdout",
     "output_type": "stream",
     "text": [
      "Validate: [ 0/79]\tTime  1.181 ( 1.181)\tLoss 3.4155e-01 (3.4155e-01)\tPrompt Acc@1  86.72 ( 86.72)\n"
     ]
    },
    {
     "name": "stderr",
     "output_type": "stream",
     "text": [
      " 65%|█████████████████████████████████████████████████████████████████████████████▍                                          | 51/79 [00:12<00:06,  4.44it/s]"
     ]
    },
    {
     "name": "stdout",
     "output_type": "stream",
     "text": [
      "Validate: [50/79]\tTime  0.218 ( 0.249)\tLoss 2.8101e-01 (2.3347e-01)\tPrompt Acc@1  90.62 ( 92.57)\n"
     ]
    },
    {
     "name": "stderr",
     "output_type": "stream",
     "text": [
      "100%|████████████████████████████████████████████████████████████████████████████████████████████████████████████████████████| 79/79 [00:18<00:00,  4.19it/s]\n"
     ]
    },
    {
     "name": "stdout",
     "output_type": "stream",
     "text": [
      " * Prompt Acc@1 92.490\n",
      "saved best file\n"
     ]
    },
    {
     "name": "stderr",
     "output_type": "stream",
     "text": [
      "  0%|▍                                                                                                                       | 1/313 [00:01<07:28,  1.44s/it]"
     ]
    },
    {
     "name": "stdout",
     "output_type": "stream",
     "text": [
      "Epoch: [6][  0/313]\tTime  1.435 ( 1.435)\tData  1.013 ( 1.013)\tLoss 3.2061e-01 (3.2061e-01)\tAcc@1  89.06 ( 89.06)\n"
     ]
    },
    {
     "name": "stderr",
     "output_type": "stream",
     "text": [
      " 16%|███████████████████▍                                                                                                   | 51/313 [00:23<01:52,  2.32it/s]"
     ]
    },
    {
     "name": "stdout",
     "output_type": "stream",
     "text": [
      "Epoch: [6][ 50/313]\tTime  0.424 ( 0.451)\tData  0.021 ( 0.044)\tLoss 1.8784e-01 (2.0426e-01)\tAcc@1  93.75 ( 93.46)\n"
     ]
    },
    {
     "name": "stderr",
     "output_type": "stream",
     "text": [
      " 32%|██████████████████████████████████████                                                                                | 101/313 [00:44<01:31,  2.32it/s]"
     ]
    },
    {
     "name": "stdout",
     "output_type": "stream",
     "text": [
      "Epoch: [6][100/313]\tTime  0.429 ( 0.441)\tData  0.023 ( 0.033)\tLoss 2.1562e-01 (2.0821e-01)\tAcc@1  92.97 ( 93.37)\n"
     ]
    },
    {
     "name": "stderr",
     "output_type": "stream",
     "text": [
      " 48%|████████████████████████████████████████████████████████▉                                                             | 151/313 [01:06<01:10,  2.31it/s]"
     ]
    },
    {
     "name": "stdout",
     "output_type": "stream",
     "text": [
      "Epoch: [6][150/313]\tTime  0.432 ( 0.437)\tData  0.020 ( 0.030)\tLoss 1.5377e-01 (2.0586e-01)\tAcc@1  94.53 ( 93.43)\n"
     ]
    },
    {
     "name": "stderr",
     "output_type": "stream",
     "text": [
      " 64%|███████████████████████████████████████████████████████████████████████████▊                                          | 201/313 [01:27<00:48,  2.30it/s]"
     ]
    },
    {
     "name": "stdout",
     "output_type": "stream",
     "text": [
      "Epoch: [6][200/313]\tTime  0.437 ( 0.436)\tData  0.029 ( 0.028)\tLoss 1.6694e-01 (2.0451e-01)\tAcc@1  94.53 ( 93.51)\n"
     ]
    },
    {
     "name": "stderr",
     "output_type": "stream",
     "text": [
      " 80%|██████████████████████████████████████████████████████████████████████████████████████████████▋                       | 251/313 [01:49<00:26,  2.30it/s]"
     ]
    },
    {
     "name": "stdout",
     "output_type": "stream",
     "text": [
      "Epoch: [6][250/313]\tTime  0.433 ( 0.435)\tData  0.021 ( 0.027)\tLoss 1.4530e-01 (2.0330e-01)\tAcc@1  96.09 ( 93.58)\n"
     ]
    },
    {
     "name": "stderr",
     "output_type": "stream",
     "text": [
      " 96%|█████████████████████████████████████████████████████████████████████████████████████████████████████████████████▍    | 301/313 [02:10<00:05,  2.28it/s]"
     ]
    },
    {
     "name": "stdout",
     "output_type": "stream",
     "text": [
      "Epoch: [6][300/313]\tTime  0.445 ( 0.434)\tData  0.028 ( 0.027)\tLoss 1.8893e-01 (2.0295e-01)\tAcc@1  95.31 ( 93.61)\n"
     ]
    },
    {
     "name": "stderr",
     "output_type": "stream",
     "text": [
      "100%|██████████████████████████████████████████████████████████████████████████████████████████████████████████████████████| 313/313 [02:15<00:00,  2.30it/s]\n",
      "  1%|█▌                                                                                                                       | 1/79 [00:01<01:36,  1.24s/it]"
     ]
    },
    {
     "name": "stdout",
     "output_type": "stream",
     "text": [
      "Validate: [ 0/79]\tTime  1.241 ( 1.241)\tLoss 3.4448e-01 (3.4448e-01)\tPrompt Acc@1  87.50 ( 87.50)\n"
     ]
    },
    {
     "name": "stderr",
     "output_type": "stream",
     "text": [
      " 65%|█████████████████████████████████████████████████████████████████████████████▍                                          | 51/79 [00:12<00:06,  4.41it/s]"
     ]
    },
    {
     "name": "stdout",
     "output_type": "stream",
     "text": [
      "Validate: [50/79]\tTime  0.233 ( 0.249)\tLoss 2.5537e-01 (2.2481e-01)\tPrompt Acc@1  89.84 ( 92.80)\n"
     ]
    },
    {
     "name": "stderr",
     "output_type": "stream",
     "text": [
      "100%|████████████████████████████████████████████████████████████████████████████████████████████████████████████████████████| 79/79 [00:19<00:00,  4.14it/s]\n"
     ]
    },
    {
     "name": "stdout",
     "output_type": "stream",
     "text": [
      " * Prompt Acc@1 92.770\n",
      "saved best file\n"
     ]
    },
    {
     "name": "stderr",
     "output_type": "stream",
     "text": [
      "  0%|▍                                                                                                                       | 1/313 [00:01<07:33,  1.45s/it]"
     ]
    },
    {
     "name": "stdout",
     "output_type": "stream",
     "text": [
      "Epoch: [7][  0/313]\tTime  1.449 ( 1.449)\tData  1.028 ( 1.028)\tLoss 3.0098e-01 (3.0098e-01)\tAcc@1  89.84 ( 89.84)\n"
     ]
    },
    {
     "name": "stderr",
     "output_type": "stream",
     "text": [
      " 16%|███████████████████▍                                                                                                   | 51/313 [00:23<01:54,  2.28it/s]"
     ]
    },
    {
     "name": "stdout",
     "output_type": "stream",
     "text": [
      "Epoch: [7][ 50/313]\tTime  0.435 ( 0.452)\tData  0.028 ( 0.043)\tLoss 1.7434e-01 (1.8972e-01)\tAcc@1  93.75 ( 93.92)\n"
     ]
    },
    {
     "name": "stderr",
     "output_type": "stream",
     "text": [
      " 32%|██████████████████████████████████████                                                                                | 101/313 [00:44<01:32,  2.29it/s]"
     ]
    },
    {
     "name": "stdout",
     "output_type": "stream",
     "text": [
      "Epoch: [7][100/313]\tTime  0.433 ( 0.443)\tData  0.026 ( 0.034)\tLoss 2.2126e-01 (1.9471e-01)\tAcc@1  92.97 ( 93.91)\n"
     ]
    },
    {
     "name": "stderr",
     "output_type": "stream",
     "text": [
      " 48%|████████████████████████████████████████████████████████▉                                                             | 151/313 [01:06<01:10,  2.30it/s]"
     ]
    },
    {
     "name": "stdout",
     "output_type": "stream",
     "text": [
      "Epoch: [7][150/313]\tTime  0.440 ( 0.439)\tData  0.032 ( 0.030)\tLoss 1.4186e-01 (1.9180e-01)\tAcc@1  96.09 ( 93.97)\n"
     ]
    },
    {
     "name": "stderr",
     "output_type": "stream",
     "text": [
      " 64%|███████████████████████████████████████████████████████████████████████████▊                                          | 201/313 [01:27<00:48,  2.31it/s]"
     ]
    },
    {
     "name": "stdout",
     "output_type": "stream",
     "text": [
      "Epoch: [7][200/313]\tTime  0.425 ( 0.436)\tData  0.021 ( 0.028)\tLoss 1.4200e-01 (1.9059e-01)\tAcc@1  95.31 ( 94.06)\n"
     ]
    },
    {
     "name": "stderr",
     "output_type": "stream",
     "text": [
      " 80%|██████████████████████████████████████████████████████████████████████████████████████████████▋                       | 251/313 [01:49<00:27,  2.29it/s]"
     ]
    },
    {
     "name": "stdout",
     "output_type": "stream",
     "text": [
      "Epoch: [7][250/313]\tTime  0.427 ( 0.435)\tData  0.020 ( 0.027)\tLoss 1.2910e-01 (1.8946e-01)\tAcc@1  96.88 ( 94.11)\n"
     ]
    },
    {
     "name": "stderr",
     "output_type": "stream",
     "text": [
      " 96%|█████████████████████████████████████████████████████████████████████████████████████████████████████████████████▍    | 301/313 [02:10<00:05,  2.29it/s]"
     ]
    },
    {
     "name": "stdout",
     "output_type": "stream",
     "text": [
      "Epoch: [7][300/313]\tTime  0.426 ( 0.435)\tData  0.022 ( 0.027)\tLoss 1.8344e-01 (1.8896e-01)\tAcc@1  95.31 ( 94.10)\n"
     ]
    },
    {
     "name": "stderr",
     "output_type": "stream",
     "text": [
      "100%|██████████████████████████████████████████████████████████████████████████████████████████████████████████████████████| 313/313 [02:15<00:00,  2.30it/s]\n",
      "  1%|█▌                                                                                                                       | 1/79 [00:01<01:34,  1.22s/it]"
     ]
    },
    {
     "name": "stdout",
     "output_type": "stream",
     "text": [
      "Validate: [ 0/79]\tTime  1.219 ( 1.219)\tLoss 3.3936e-01 (3.3936e-01)\tPrompt Acc@1  88.28 ( 88.28)\n"
     ]
    },
    {
     "name": "stderr",
     "output_type": "stream",
     "text": [
      " 65%|█████████████████████████████████████████████████████████████████████████████▍                                          | 51/79 [00:12<00:06,  4.51it/s]"
     ]
    },
    {
     "name": "stdout",
     "output_type": "stream",
     "text": [
      "Validate: [50/79]\tTime  0.219 ( 0.253)\tLoss 2.3267e-01 (2.1863e-01)\tPrompt Acc@1  92.19 ( 93.01)\n"
     ]
    },
    {
     "name": "stderr",
     "output_type": "stream",
     "text": [
      "100%|████████████████████████████████████████████████████████████████████████████████████████████████████████████████████████| 79/79 [00:19<00:00,  4.11it/s]\n"
     ]
    },
    {
     "name": "stdout",
     "output_type": "stream",
     "text": [
      " * Prompt Acc@1 92.930\n",
      "saved best file\n"
     ]
    },
    {
     "name": "stderr",
     "output_type": "stream",
     "text": [
      "  0%|▍                                                                                                                       | 1/313 [00:01<07:14,  1.39s/it]"
     ]
    },
    {
     "name": "stdout",
     "output_type": "stream",
     "text": [
      "Epoch: [8][  0/313]\tTime  1.377 ( 1.377)\tData  0.974 ( 0.974)\tLoss 2.7001e-01 (2.7001e-01)\tAcc@1  92.19 ( 92.19)\n"
     ]
    },
    {
     "name": "stderr",
     "output_type": "stream",
     "text": [
      " 16%|███████████████████▍                                                                                                   | 51/313 [00:22<01:52,  2.32it/s]"
     ]
    },
    {
     "name": "stdout",
     "output_type": "stream",
     "text": [
      "Epoch: [8][ 50/313]\tTime  0.424 ( 0.449)\tData  0.021 ( 0.042)\tLoss 1.5437e-01 (1.7662e-01)\tAcc@1  93.75 ( 94.59)\n"
     ]
    },
    {
     "name": "stderr",
     "output_type": "stream",
     "text": [
      " 32%|██████████████████████████████████████                                                                                | 101/313 [00:44<01:32,  2.30it/s]"
     ]
    },
    {
     "name": "stdout",
     "output_type": "stream",
     "text": [
      "Epoch: [8][100/313]\tTime  0.425 ( 0.441)\tData  0.022 ( 0.033)\tLoss 2.1484e-01 (1.8167e-01)\tAcc@1  93.75 ( 94.42)\n"
     ]
    },
    {
     "name": "stderr",
     "output_type": "stream",
     "text": [
      " 48%|████████████████████████████████████████████████████████▉                                                             | 151/313 [01:06<01:09,  2.31it/s]"
     ]
    },
    {
     "name": "stdout",
     "output_type": "stream",
     "text": [
      "Epoch: [8][150/313]\tTime  0.432 ( 0.437)\tData  0.021 ( 0.029)\tLoss 1.3275e-01 (1.7922e-01)\tAcc@1  96.09 ( 94.45)\n"
     ]
    },
    {
     "name": "stderr",
     "output_type": "stream",
     "text": [
      " 64%|███████████████████████████████████████████████████████████████████████████▊                                          | 201/313 [01:27<00:48,  2.31it/s]"
     ]
    },
    {
     "name": "stdout",
     "output_type": "stream",
     "text": [
      "Epoch: [8][200/313]\tTime  0.426 ( 0.435)\tData  0.021 ( 0.028)\tLoss 1.2333e-01 (1.7818e-01)\tAcc@1  96.88 ( 94.54)\n"
     ]
    },
    {
     "name": "stderr",
     "output_type": "stream",
     "text": [
      " 80%|██████████████████████████████████████████████████████████████████████████████████████████████▋                       | 251/313 [01:48<00:26,  2.33it/s]"
     ]
    },
    {
     "name": "stdout",
     "output_type": "stream",
     "text": [
      "Epoch: [8][250/313]\tTime  0.429 ( 0.434)\tData  0.020 ( 0.027)\tLoss 1.1055e-01 (1.7710e-01)\tAcc@1  97.66 ( 94.60)\n"
     ]
    },
    {
     "name": "stderr",
     "output_type": "stream",
     "text": [
      " 96%|█████████████████████████████████████████████████████████████████████████████████████████████████████████████████▍    | 301/313 [02:10<00:05,  2.29it/s]"
     ]
    },
    {
     "name": "stdout",
     "output_type": "stream",
     "text": [
      "Epoch: [8][300/313]\tTime  0.430 ( 0.434)\tData  0.022 ( 0.026)\tLoss 1.6743e-01 (1.7664e-01)\tAcc@1  96.09 ( 94.55)\n"
     ]
    },
    {
     "name": "stderr",
     "output_type": "stream",
     "text": [
      "100%|██████████████████████████████████████████████████████████████████████████████████████████████████████████████████████| 313/313 [02:15<00:00,  2.31it/s]\n",
      "  1%|█▌                                                                                                                       | 1/79 [00:01<01:34,  1.21s/it]"
     ]
    },
    {
     "name": "stdout",
     "output_type": "stream",
     "text": [
      "Validate: [ 0/79]\tTime  1.209 ( 1.209)\tLoss 3.2764e-01 (3.2764e-01)\tPrompt Acc@1  89.06 ( 89.06)\n"
     ]
    },
    {
     "name": "stderr",
     "output_type": "stream",
     "text": [
      " 65%|█████████████████████████████████████████████████████████████████████████████▍                                          | 51/79 [00:12<00:06,  4.46it/s]"
     ]
    },
    {
     "name": "stdout",
     "output_type": "stream",
     "text": [
      "Validate: [50/79]\tTime  0.217 ( 0.254)\tLoss 2.1521e-01 (2.1627e-01)\tPrompt Acc@1  91.41 ( 93.08)\n"
     ]
    },
    {
     "name": "stderr",
     "output_type": "stream",
     "text": [
      "100%|████████████████████████████████████████████████████████████████████████████████████████████████████████████████████████| 79/79 [00:19<00:00,  4.12it/s]\n"
     ]
    },
    {
     "name": "stdout",
     "output_type": "stream",
     "text": [
      " * Prompt Acc@1 93.000\n",
      "saved best file\n"
     ]
    },
    {
     "name": "stderr",
     "output_type": "stream",
     "text": [
      "  0%|▍                                                                                                                       | 1/313 [00:01<07:29,  1.44s/it]"
     ]
    },
    {
     "name": "stdout",
     "output_type": "stream",
     "text": [
      "Epoch: [9][  0/313]\tTime  1.422 ( 1.422)\tData  0.990 ( 0.990)\tLoss 2.5074e-01 (2.5074e-01)\tAcc@1  93.75 ( 93.75)\n"
     ]
    },
    {
     "name": "stderr",
     "output_type": "stream",
     "text": [
      " 16%|███████████████████▍                                                                                                   | 51/313 [00:23<01:54,  2.29it/s]"
     ]
    },
    {
     "name": "stdout",
     "output_type": "stream",
     "text": [
      "Epoch: [9][ 50/313]\tTime  0.435 ( 0.452)\tData  0.025 ( 0.044)\tLoss 1.5158e-01 (1.6800e-01)\tAcc@1  93.75 ( 95.07)\n"
     ]
    },
    {
     "name": "stderr",
     "output_type": "stream",
     "text": [
      " 32%|██████████████████████████████████████                                                                                | 101/313 [00:44<01:31,  2.32it/s]"
     ]
    },
    {
     "name": "stdout",
     "output_type": "stream",
     "text": [
      "Epoch: [9][100/313]\tTime  0.429 ( 0.441)\tData  0.025 ( 0.033)\tLoss 2.0472e-01 (1.7256e-01)\tAcc@1  94.53 ( 94.85)\n"
     ]
    },
    {
     "name": "stderr",
     "output_type": "stream",
     "text": [
      " 48%|████████████████████████████████████████████████████████▉                                                             | 151/313 [01:06<01:10,  2.31it/s]"
     ]
    },
    {
     "name": "stdout",
     "output_type": "stream",
     "text": [
      "Epoch: [9][150/313]\tTime  0.430 ( 0.438)\tData  0.022 ( 0.030)\tLoss 1.1754e-01 (1.7026e-01)\tAcc@1  96.09 ( 94.87)\n"
     ]
    },
    {
     "name": "stderr",
     "output_type": "stream",
     "text": [
      " 64%|███████████████████████████████████████████████████████████████████████████▊                                          | 201/313 [01:27<00:48,  2.30it/s]"
     ]
    },
    {
     "name": "stdout",
     "output_type": "stream",
     "text": [
      "Epoch: [9][200/313]\tTime  0.425 ( 0.436)\tData  0.023 ( 0.028)\tLoss 1.1191e-01 (1.6934e-01)\tAcc@1  97.66 ( 94.91)\n"
     ]
    },
    {
     "name": "stderr",
     "output_type": "stream",
     "text": [
      " 80%|██████████████████████████████████████████████████████████████████████████████████████████████▋                       | 251/313 [01:49<00:26,  2.32it/s]"
     ]
    },
    {
     "name": "stdout",
     "output_type": "stream",
     "text": [
      "Epoch: [9][250/313]\tTime  0.429 ( 0.435)\tData  0.021 ( 0.027)\tLoss 1.0152e-01 (1.6856e-01)\tAcc@1  96.88 ( 94.95)\n"
     ]
    },
    {
     "name": "stderr",
     "output_type": "stream",
     "text": [
      " 96%|█████████████████████████████████████████████████████████████████████████████████████████████████████████████████▍    | 301/313 [02:10<00:05,  2.31it/s]"
     ]
    },
    {
     "name": "stdout",
     "output_type": "stream",
     "text": [
      "Epoch: [9][300/313]\tTime  0.418 ( 0.434)\tData  0.020 ( 0.026)\tLoss 1.6626e-01 (1.6847e-01)\tAcc@1  96.88 ( 94.92)\n"
     ]
    },
    {
     "name": "stderr",
     "output_type": "stream",
     "text": [
      "100%|██████████████████████████████████████████████████████████████████████████████████████████████████████████████████████| 313/313 [02:15<00:00,  2.31it/s]\n",
      "  1%|█▌                                                                                                                       | 1/79 [00:01<01:47,  1.38s/it]"
     ]
    },
    {
     "name": "stdout",
     "output_type": "stream",
     "text": [
      "Validate: [ 0/79]\tTime  1.384 ( 1.384)\tLoss 3.1641e-01 (3.1641e-01)\tPrompt Acc@1  89.06 ( 89.06)\n"
     ]
    },
    {
     "name": "stderr",
     "output_type": "stream",
     "text": [
      " 65%|█████████████████████████████████████████████████████████████████████████████▍                                          | 51/79 [00:12<00:06,  4.44it/s]"
     ]
    },
    {
     "name": "stdout",
     "output_type": "stream",
     "text": [
      "Validate: [50/79]\tTime  0.226 ( 0.255)\tLoss 2.1570e-01 (2.1486e-01)\tPrompt Acc@1  92.97 ( 93.01)\n"
     ]
    },
    {
     "name": "stderr",
     "output_type": "stream",
     "text": [
      "100%|████████████████████████████████████████████████████████████████████████████████████████████████████████████████████████| 79/79 [00:19<00:00,  4.11it/s]\n"
     ]
    },
    {
     "name": "stdout",
     "output_type": "stream",
     "text": [
      " * Prompt Acc@1 93.020\n",
      "saved best file\n"
     ]
    },
    {
     "name": "stderr",
     "output_type": "stream",
     "text": [
      "  1%|█▌                                                                                                                       | 1/79 [00:01<01:41,  1.30s/it]"
     ]
    },
    {
     "name": "stdout",
     "output_type": "stream",
     "text": [
      "Validate: [ 0/79]\tTime  1.304 ( 1.304)\tLoss 3.1641e-01 (3.1641e-01)\tPrompt Acc@1  89.06 ( 89.06)\n"
     ]
    },
    {
     "name": "stderr",
     "output_type": "stream",
     "text": [
      " 65%|█████████████████████████████████████████████████████████████████████████████▍                                          | 51/79 [00:13<00:06,  4.52it/s]"
     ]
    },
    {
     "name": "stdout",
     "output_type": "stream",
     "text": [
      "Validate: [50/79]\tTime  0.221 ( 0.256)\tLoss 2.1570e-01 (2.1486e-01)\tPrompt Acc@1  92.97 ( 93.01)\n"
     ]
    },
    {
     "name": "stderr",
     "output_type": "stream",
     "text": [
      "100%|████████████████████████████████████████████████████████████████████████████████████████████████████████████████████████| 79/79 [00:19<00:00,  4.12it/s]\n"
     ]
    },
    {
     "name": "stdout",
     "output_type": "stream",
     "text": [
      " * Prompt Acc@1 93.020\n"
     ]
    },
    {
     "name": "stderr",
     "output_type": "stream",
     "text": [
      "  1%|█▌                                                                                                                       | 1/79 [00:01<01:32,  1.18s/it]"
     ]
    },
    {
     "name": "stdout",
     "output_type": "stream",
     "text": [
      "Validate: [ 0/79]\tTime  1.187 ( 1.187)\tLoss 2.7075e-01 (2.7075e-01)\tPrompt Acc@1  91.41 ( 91.41)\n"
     ]
    },
    {
     "name": "stderr",
     "output_type": "stream",
     "text": [
      " 65%|█████████████████████████████████████████████████████████████████████████████▍                                          | 51/79 [00:12<00:06,  4.45it/s]"
     ]
    },
    {
     "name": "stdout",
     "output_type": "stream",
     "text": [
      "Validate: [50/79]\tTime  0.223 ( 0.250)\tLoss 2.0532e-01 (2.2646e-01)\tPrompt Acc@1  92.97 ( 92.19)\n"
     ]
    },
    {
     "name": "stderr",
     "output_type": "stream",
     "text": [
      "100%|████████████████████████████████████████████████████████████████████████████████████████████████████████████████████████| 79/79 [00:19<00:00,  4.15it/s]"
     ]
    },
    {
     "name": "stdout",
     "output_type": "stream",
     "text": [
      " * Prompt Acc@1 92.460\n"
     ]
    },
    {
     "name": "stderr",
     "output_type": "stream",
     "text": [
      "\n"
     ]
    }
   ],
   "source": [
    "train_stats = learn.run()\n",
    "valid_stats = learn.evaluate(\"valid\")\n",
    "test_stats = learn.evaluate(\"test\")"
   ]
  },
  {
   "cell_type": "code",
   "execution_count": null,
   "id": "a7df7763-65e2-4745-ba40-62dc8a5d3eca",
   "metadata": {},
   "outputs": [],
   "source": [
    "import torch\n",
    "from torch import nn"
   ]
  },
  {
   "cell_type": "code",
   "execution_count": null,
   "id": "563ef574-f841-4eec-972b-d45962f5189e",
   "metadata": {},
   "outputs": [],
   "source": [
    "class CheckersPrompt(nn.Module):\n",
    "    def __init__(self, args):\n",
    "        super().__init__()\n",
    "\n",
    "        assert isinstance(args.image_size, int), \"image_size must be an integer\"\n",
    "        assert isinstance(args.square_size, int), \"square_size must be an integer\"\n",
    "        assert not args.image_size % args.square_size, \"image_size must be divisible by square_size\"\n",
    "        self.tile_size = tile_size\n",
    "\n",
    "        n_tiles = args.image_size ** 2 // 2 + args.image_size % 2\n",
    "        self.tiles = nn.ParameterList(torch.randn(1, 3, self.tile_size, self.tile_size) for _ in range(n_tiles))\n",
    "\n",
    "    def forward(self, x):\n",
    "        tiles_iter = iter(self.tiles)\n",
    "        for i, row_id in enumerate(1, range(0, x.shape(2), self.tile_size)):\n",
    "            for j, col_id in enumerate(1, range(0, x.shape(3), self.tile_size)):\n",
    "                if i % 2: # odd row\n",
    "                    if j % 2: # odd column\n",
    "                        x[:, :, row_id : row_id + self.tile_size, col_id : col_id + self.tile_size] += next(tiles_iter)\n",
    "                else: # even row\n",
    "                    if not j % 2: # even column\n",
    "                        x[:, :, row_id : row_id + self.tile_size, col_id : col_id + self.tile_size] += next(tiles_iter)\n",
    "        return x"
   ]
  },
  {
   "cell_type": "code",
   "execution_count": null,
   "id": "b3c2e820-ad7c-4687-a72f-380af24f5ad8",
   "metadata": {},
   "outputs": [
    {
     "ename": "TypeError",
     "evalue": "'Namespace' object does not support item assignment",
     "output_type": "error",
     "traceback": [
      "\u001b[0;31m---------------------------------------------------------------------------\u001b[0m",
      "\u001b[0;31mTypeError\u001b[0m                                 Traceback (most recent call last)",
      "Cell \u001b[0;32mIn [9], line 1\u001b[0m\n\u001b[0;32m----> 1\u001b[0m \u001b[43margs\u001b[49m\u001b[43m[\u001b[49m\u001b[38;5;124;43m\"\u001b[39;49m\u001b[38;5;124;43mimage_size\u001b[39;49m\u001b[38;5;124;43m\"\u001b[39;49m\u001b[43m]\u001b[49m \u001b[38;5;241m=\u001b[39m \u001b[38;5;241m5\u001b[39m\n\u001b[1;32m      2\u001b[0m args[\u001b[38;5;124m\"\u001b[39m\u001b[38;5;124msquare_size\u001b[39m\u001b[38;5;124m\"\u001b[39m] \u001b[38;5;241m=\u001b[39m \u001b[38;5;241m1\u001b[39m\n\u001b[1;32m      3\u001b[0m checkers_prompt \u001b[38;5;241m=\u001b[39m CheckerPrompt(args)\n",
      "\u001b[0;31mTypeError\u001b[0m: 'Namespace' object does not support item assignment"
     ]
    }
   ],
   "source": [
    "args[\"image_size\"] = 5\n",
    "args[\"square_size\"] = 1\n",
    "checkers_prompt = CheckerPrompt(args)\n",
    "print(checkers_prompt)"
   ]
  }
 ],
 "metadata": {
  "kernelspec": {
   "display_name": "Python 3 (ipykernel)",
   "language": "python",
   "name": "python3"
  }
 },
 "nbformat": 4,
 "nbformat_minor": 5
}
